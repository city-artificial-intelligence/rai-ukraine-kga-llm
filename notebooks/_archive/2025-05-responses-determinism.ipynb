{
 "cells": [
  {
   "cell_type": "code",
   "execution_count": 1,
   "metadata": {},
   "outputs": [],
   "source": [
    "# ruff: noqa: T201, T203\n",
    "from __future__ import annotations\n",
    "\n",
    "import os\n",
    "from pathlib import Path\n",
    "\n",
    "if Path.cwd().name == \"notebooks\":\n",
    "    os.chdir(\"..\")\n",
    "\n",
    "import logging\n",
    "\n",
    "import pandas as pd\n",
    "from dotenv import load_dotenv\n",
    "from tqdm import tqdm\n",
    "\n",
    "import src.prompts.system as system_prompts\n",
    "from config.config import RUN_DIR\n",
    "from config.runs_vars import SUBSET_TO_DATASET_MAP\n",
    "from src.constants import PAIRS_SEPARATOR\n",
    "from src.evaluate import (\n",
    "    analyze_results,\n",
    "    get_predictions_with_gt,\n",
    "    plot_usage_histograms,\n",
    "    read_run_metrics_df,\n",
    "    store_run_metrics_df,\n",
    ")\n",
    "from src.formatting import (\n",
    "    format_combined_metrics_path,\n",
    "    format_oracle_pairs_filepath,\n",
    "    format_oracle_pairs_precomputed_dir,\n",
    "    format_predictions_run_path,\n",
    "    format_storing_pathes_from_run_path,\n",
    "    format_subsets_ontologies_paths,\n",
    ")\n",
    "from src.LLM_servers.openai import OpenAIServer\n",
    "from src.onto_access import OntologyAccess\n",
    "from src.onto_object import OntologyEntryAttr\n",
    "from src.processing import parallel_samples_process, save_oracle_pairs_with_prompts, try_load_precomputed_oracle_pairs\n",
    "from src.prompts.prompts import (\n",
    "    prompt_direct_entity,\n",
    "    prompt_direct_entity_ontological,\n",
    "    prompt_direct_entity_with_synonyms,\n",
    "    prompt_sequential_hierarchy,\n",
    "    prompt_sequential_hierarchy_ontological,\n",
    "    prompt_sequential_hierarchy_with_synonyms,\n",
    ")\n",
    "from src.utils import read_oracle_pairs, save_run_results\n",
    "\n",
    "pd.set_option(\"display.max_rows\", None)\n",
    "logging.getLogger().setLevel(logging.WARNING)\n",
    "load_dotenv()\n",
    "\n",
    "%load_ext autoreload\n",
    "%autoreload 2"
   ]
  },
  {
   "cell_type": "code",
   "execution_count": 2,
   "metadata": {},
   "outputs": [],
   "source": [
    "PROMPT_FUNCTIONS_MAP = {\n",
    "    prompt_function.__name__.replace(\"prompt_\", \"\"): prompt_function\n",
    "    for prompt_function in [\n",
    "        prompt_direct_entity,\n",
    "        prompt_direct_entity_ontological,\n",
    "        prompt_sequential_hierarchy,\n",
    "        prompt_sequential_hierarchy_ontological,\n",
    "        prompt_direct_entity_with_synonyms,\n",
    "        prompt_sequential_hierarchy_with_synonyms,\n",
    "    ]\n",
    "}\n",
    "# ruff: noqa: ERA001\n",
    "# SYSPROMPTS_MAP = {\n",
    "#     \"base\": system_prompts.BASELINE_INITIALIZATION_MESSAGE,\n",
    "#     \"natural_language\": system_prompts.INTUITIVE_NATURAL_LANGUAGE_JUDGEMENT_MESSAGE,\n",
    "#     \"ontology_aware\": system_prompts.ONTOLOGY_AWARE_REASONING_MESSAGE,\n",
    "#     \"synonym_aware\": system_prompts.SYNONYM_AWARE_MESSAGE,\n",
    "#     \"none\": None,\n",
    "# }"
   ]
  },
  {
   "cell_type": "code",
   "execution_count": 3,
   "metadata": {},
   "outputs": [
    {
     "data": {
      "text/plain": [
       "(PosixPath('data/anatomy/human-mouse/mouse.owl'),\n",
       " PosixPath('data/anatomy/human-mouse/human.owl'))"
      ]
     },
     "execution_count": 3,
     "metadata": {},
     "output_type": "execute_result"
    }
   ],
   "source": [
    "DATASET, SUBSET = \"anatomy\", \"human-mouse\"\n",
    "\n",
    "src_onto_path, tgt_onto_path = format_subsets_ontologies_paths(DATASET, SUBSET)\n",
    "src_onto_path, tgt_onto_path"
   ]
  },
  {
   "cell_type": "markdown",
   "metadata": {},
   "source": [
    "### Pre-Validation"
   ]
  },
  {
   "cell_type": "code",
   "execution_count": null,
   "metadata": {},
   "outputs": [],
   "source": [
    "onto_src = OntologyAccess(src_onto_path, annotate_on_init=True)\n",
    "onto_tgt = OntologyAccess(tgt_onto_path, annotate_on_init=True)"
   ]
  },
  {
   "cell_type": "code",
   "execution_count": null,
   "metadata": {},
   "outputs": [],
   "source": [
    "src_entity, tgt_entity = read_oracle_pairs(format_oracle_pairs_filepath(DATASET, SUBSET))[0]\n",
    "src_entity, tgt_entity = OntologyEntryAttr(src_entity, onto_src), OntologyEntryAttr(tgt_entity, onto_tgt)\n",
    "\n",
    "print(src_entity)\n",
    "print(tgt_entity)\n",
    "\n",
    "for name, prompt_function in PROMPT_FUNCTIONS_MAP.items():\n",
    "    print(f\"Prompt function: {name}\")\n",
    "    print(prompt_function(src_entity, tgt_entity))\n",
    "    print(\"=\" * 50)"
   ]
  },
  {
   "cell_type": "code",
   "execution_count": null,
   "metadata": {},
   "outputs": [],
   "source": [
    "for name, prompt_function in PROMPT_FUNCTIONS_MAP.items():\n",
    "    print(f\"Prompt function: {name}\")\n",
    "    oracle_candidate_pairs = try_load_precomputed_oracle_pairs(DATASET, SUBSET, prompt_function)\n",
    "    print(*oracle_candidate_pairs[0], sep=\"\\n\")\n"
   ]
  },
  {
   "cell_type": "markdown",
   "metadata": {},
   "source": [
    "### Pre-Processing"
   ]
  },
  {
   "cell_type": "code",
   "execution_count": null,
   "metadata": {},
   "outputs": [],
   "source": [
    "ALL_DATASET_NAMES = {\n",
    "    # \"anatomy\": [\"human-mouse\"]j,\n",
    "    # \"bioml-2024\": [\"snomed-fma.body\", \"snomed-ncit.neoplas\", \"snomed-ncit.pharm\", \"ncit-doid\", \"omim-ordo\"],\n",
    "    \"largebio\": [\"fma-nci\", \"fma-snomed\", \"snomed-nci\"],\n",
    "}\n",
    "prompt_functions = list(PROMPT_FUNCTIONS_MAP.values())\n",
    "\n",
    "for dataset_name, set_names in ALL_DATASET_NAMES.items():\n",
    "    for set_name in set_names:\n",
    "        try:\n",
    "            ontologies = []\n",
    "            for onto_path in tqdm(\n",
    "                format_subsets_ontologies_paths(dataset_name, set_name),\n",
    "                desc=f\"Loading ontologies: {dataset_name} - {set_name}\",\n",
    "            ):\n",
    "                ontologies.append(OntologyAccess(onto_path, annotate_on_init=True))\n",
    "\n",
    "            pairs_path = format_oracle_pairs_filepath(dataset_name, set_name)\n",
    "            oracle_pairs_dir = format_oracle_pairs_precomputed_dir(dataset_name, set_name)\n",
    "\n",
    "            pairs_with_prompts_df = save_oracle_pairs_with_prompts(\n",
    "                pairs_path, *ontologies, prompt_functions, oracle_pairs_dir, PAIRS_SEPARATOR, max_workers=2\n",
    "            )\n",
    "        except Exception as e:  # noqa: BLE001\n",
    "            print(f\"Error processing {dataset_name} - {set_name}: {e}\")\n",
    "            continue"
   ]
  },
  {
   "cell_type": "markdown",
   "metadata": {},
   "source": [
    "### Run experiments\n"
   ]
  },
  {
   "cell_type": "code",
   "execution_count": null,
   "metadata": {},
   "outputs": [],
   "source": [
    "MAX_WORKERS = 100\n",
    "MODELS = [\"gemini-2.0-flash-lite\"]  # \"gpt-4o-mini\"\n",
    "\n",
    "DATASETS_MAP = {\n",
    "    \"anatomy\": [\"human-mouse\"],\n",
    "    \"bioml-2024\": [\"omim-ordo\"], # [\"snomed-fma.body\", \"snomed-ncit.neoplas\", \"snomed-ncit.pharm\", # \"ncit-doid\"],\n",
    "    \"largebio\": [\"fma-nci\"], # \"fma-snomed\", \"snomed-nci\"]\n",
    "}\n",
    "EXPERIMENT_TYPE = \"determinism\"\n",
    "EXP_NAMES_MAP = { str(i):{} for i in range(4)}\n",
    "\n",
    "onto_src, onto_tgt = None, None"
   ]
  },
  {
   "cell_type": "code",
   "execution_count": 5,
   "metadata": {},
   "outputs": [
    {
     "name": "stdout",
     "output_type": "stream",
     "text": [
      "run_path=PosixPath('outputs/anatomy/human-mouse/gemini-2.0-flash-lite/determinism/0') | DATASET='anatomy' | SUBSET='human-mouse' | MODEL='gemini-2.0-flash-lite' | exp_name='0'\n"
     ]
    },
    {
     "name": "stderr",
     "output_type": "stream",
     "text": [
      "Processing Lines prompt_direct_entity: 100%|██████████| 398/398 [00:10<00:00, 37.38it/s] \n",
      "Processing Lines prompt_direct_entity_ontological: 100%|██████████| 398/398 [00:11<00:00, 35.76it/s]\n",
      "Processing Lines prompt_sequential_hierarchy: 100%|██████████| 398/398 [00:10<00:00, 38.98it/s] \n",
      "Processing Lines prompt_sequential_hierarchy_ontological: 100%|██████████| 398/398 [00:10<00:00, 37.45it/s]\n",
      "Processing Lines prompt_direct_entity_with_synonyms: 100%|██████████| 398/398 [00:09<00:00, 41.61it/s] \n",
      "Processing Lines prompt_sequential_hierarchy_with_synonyms: 100%|██████████| 398/398 [00:10<00:00, 38.78it/s]\n"
     ]
    },
    {
     "name": "stdout",
     "output_type": "stream",
     "text": [
      "run_path=PosixPath('outputs/bioml-2024/omim-ordo/gemini-2.0-flash-lite/determinism/0') | DATASET='bioml-2024' | SUBSET='omim-ordo' | MODEL='gemini-2.0-flash-lite' | exp_name='0'\n"
     ]
    },
    {
     "name": "stderr",
     "output_type": "stream",
     "text": [
      "Processing Lines prompt_direct_entity: 100%|██████████| 1464/1464 [00:37<00:00, 39.18it/s]\n",
      "Processing Lines prompt_direct_entity_ontological: 100%|██████████| 1464/1464 [00:39<00:00, 36.72it/s]\n",
      "Processing Lines prompt_sequential_hierarchy: 100%|██████████| 1464/1464 [00:36<00:00, 39.66it/s]\n",
      "Processing Lines prompt_sequential_hierarchy_ontological: 100%|██████████| 1464/1464 [00:38<00:00, 37.88it/s]\n",
      "Processing Lines prompt_direct_entity_with_synonyms: 100%|██████████| 1464/1464 [00:39<00:00, 37.15it/s]\n",
      "Processing Lines prompt_sequential_hierarchy_with_synonyms: 100%|██████████| 1464/1464 [00:37<00:00, 39.24it/s]\n"
     ]
    },
    {
     "name": "stdout",
     "output_type": "stream",
     "text": [
      "run_path=PosixPath('outputs/largebio/fma-nci/gemini-2.0-flash-lite/determinism/0') | DATASET='largebio' | SUBSET='fma-nci' | MODEL='gemini-2.0-flash-lite' | exp_name='0'\n"
     ]
    },
    {
     "name": "stderr",
     "output_type": "stream",
     "text": [
      "Processing Lines prompt_direct_entity: 100%|██████████| 1258/1258 [00:35<00:00, 35.75it/s]\n",
      "Processing Lines prompt_direct_entity_ontological: 100%|██████████| 1258/1258 [00:33<00:00, 38.04it/s]\n",
      "Processing Lines prompt_sequential_hierarchy: 100%|██████████| 1258/1258 [00:34<00:00, 36.95it/s]\n",
      "Processing Lines prompt_sequential_hierarchy_ontological: 100%|██████████| 1258/1258 [00:33<00:00, 37.60it/s]\n",
      "Processing Lines prompt_direct_entity_with_synonyms: 100%|██████████| 1258/1258 [00:33<00:00, 37.74it/s]\n",
      "Processing Lines prompt_sequential_hierarchy_with_synonyms: 100%|██████████| 1258/1258 [00:32<00:00, 38.55it/s]\n"
     ]
    },
    {
     "name": "stdout",
     "output_type": "stream",
     "text": [
      "run_path=PosixPath('outputs/anatomy/human-mouse/gemini-2.0-flash-lite/determinism/1') | DATASET='anatomy' | SUBSET='human-mouse' | MODEL='gemini-2.0-flash-lite' | exp_name='1'\n"
     ]
    },
    {
     "name": "stderr",
     "output_type": "stream",
     "text": [
      "Processing Lines prompt_direct_entity: 100%|██████████| 398/398 [00:09<00:00, 42.40it/s] \n",
      "Processing Lines prompt_direct_entity_ontological: 100%|██████████| 398/398 [00:10<00:00, 36.99it/s]\n",
      "Processing Lines prompt_sequential_hierarchy: 100%|██████████| 398/398 [00:10<00:00, 36.73it/s] \n",
      "Processing Lines prompt_sequential_hierarchy_ontological: 100%|██████████| 398/398 [00:10<00:00, 38.08it/s]\n",
      "Processing Lines prompt_direct_entity_with_synonyms: 100%|██████████| 398/398 [00:10<00:00, 38.00it/s] \n",
      "Processing Lines prompt_sequential_hierarchy_with_synonyms: 100%|██████████| 398/398 [00:11<00:00, 35.30it/s]\n"
     ]
    },
    {
     "name": "stdout",
     "output_type": "stream",
     "text": [
      "run_path=PosixPath('outputs/bioml-2024/omim-ordo/gemini-2.0-flash-lite/determinism/1') | DATASET='bioml-2024' | SUBSET='omim-ordo' | MODEL='gemini-2.0-flash-lite' | exp_name='1'\n"
     ]
    },
    {
     "name": "stderr",
     "output_type": "stream",
     "text": [
      "Processing Lines prompt_direct_entity: 100%|██████████| 1464/1464 [00:38<00:00, 38.39it/s]\n",
      "Processing Lines prompt_direct_entity_ontological: 100%|██████████| 1464/1464 [00:37<00:00, 38.61it/s]\n",
      "Processing Lines prompt_sequential_hierarchy: 100%|██████████| 1464/1464 [00:37<00:00, 38.91it/s]\n",
      "Processing Lines prompt_sequential_hierarchy_ontological: 100%|██████████| 1464/1464 [00:40<00:00, 36.28it/s]\n",
      "Processing Lines prompt_direct_entity_with_synonyms: 100%|██████████| 1464/1464 [00:40<00:00, 35.81it/s]\n",
      "Processing Lines prompt_sequential_hierarchy_with_synonyms: 100%|██████████| 1464/1464 [00:36<00:00, 40.31it/s]\n"
     ]
    },
    {
     "name": "stdout",
     "output_type": "stream",
     "text": [
      "run_path=PosixPath('outputs/largebio/fma-nci/gemini-2.0-flash-lite/determinism/1') | DATASET='largebio' | SUBSET='fma-nci' | MODEL='gemini-2.0-flash-lite' | exp_name='1'\n"
     ]
    },
    {
     "name": "stderr",
     "output_type": "stream",
     "text": [
      "Processing Lines prompt_direct_entity: 100%|██████████| 1258/1258 [00:33<00:00, 38.09it/s]\n",
      "Processing Lines prompt_direct_entity_ontological: 100%|██████████| 1258/1258 [00:31<00:00, 39.42it/s]\n",
      "Processing Lines prompt_sequential_hierarchy: 100%|██████████| 1258/1258 [00:33<00:00, 37.69it/s]\n",
      "Processing Lines prompt_sequential_hierarchy_ontological: 100%|██████████| 1258/1258 [00:34<00:00, 36.70it/s]\n",
      "Processing Lines prompt_direct_entity_with_synonyms: 100%|██████████| 1258/1258 [00:34<00:00, 36.31it/s]\n",
      "Processing Lines prompt_sequential_hierarchy_with_synonyms: 100%|██████████| 1258/1258 [00:28<00:00, 43.39it/s]\n"
     ]
    },
    {
     "name": "stdout",
     "output_type": "stream",
     "text": [
      "run_path=PosixPath('outputs/anatomy/human-mouse/gemini-2.0-flash-lite/determinism/2') | DATASET='anatomy' | SUBSET='human-mouse' | MODEL='gemini-2.0-flash-lite' | exp_name='2'\n"
     ]
    },
    {
     "name": "stderr",
     "output_type": "stream",
     "text": [
      "Processing Lines prompt_direct_entity: 100%|██████████| 398/398 [00:10<00:00, 37.30it/s]\n",
      "Processing Lines prompt_direct_entity_ontological: 100%|██████████| 398/398 [00:10<00:00, 38.22it/s]\n",
      "Processing Lines prompt_sequential_hierarchy: 100%|██████████| 398/398 [00:10<00:00, 36.90it/s]\n",
      "Processing Lines prompt_sequential_hierarchy_ontological: 100%|██████████| 398/398 [00:10<00:00, 38.00it/s]\n",
      "Processing Lines prompt_direct_entity_with_synonyms: 100%|██████████| 398/398 [00:10<00:00, 37.91it/s]\n",
      "Processing Lines prompt_sequential_hierarchy_with_synonyms: 100%|██████████| 398/398 [00:11<00:00, 36.04it/s]\n"
     ]
    },
    {
     "name": "stdout",
     "output_type": "stream",
     "text": [
      "run_path=PosixPath('outputs/bioml-2024/omim-ordo/gemini-2.0-flash-lite/determinism/2') | DATASET='bioml-2024' | SUBSET='omim-ordo' | MODEL='gemini-2.0-flash-lite' | exp_name='2'\n"
     ]
    },
    {
     "name": "stderr",
     "output_type": "stream",
     "text": [
      "Processing Lines prompt_direct_entity: 100%|██████████| 1464/1464 [00:38<00:00, 37.55it/s]\n",
      "Processing Lines prompt_direct_entity_ontological: 100%|██████████| 1464/1464 [00:38<00:00, 37.75it/s]\n",
      "Processing Lines prompt_sequential_hierarchy: 100%|██████████| 1464/1464 [00:38<00:00, 37.55it/s]\n",
      "Processing Lines prompt_sequential_hierarchy_ontological: 100%|██████████| 1464/1464 [00:44<00:00, 33.21it/s]\n",
      "Processing Lines prompt_direct_entity_with_synonyms: 100%|██████████| 1464/1464 [00:47<00:00, 30.87it/s]\n",
      "Processing Lines prompt_sequential_hierarchy_with_synonyms: 100%|██████████| 1464/1464 [00:45<00:00, 32.05it/s]\n"
     ]
    },
    {
     "name": "stdout",
     "output_type": "stream",
     "text": [
      "run_path=PosixPath('outputs/largebio/fma-nci/gemini-2.0-flash-lite/determinism/2') | DATASET='largebio' | SUBSET='fma-nci' | MODEL='gemini-2.0-flash-lite' | exp_name='2'\n"
     ]
    },
    {
     "name": "stderr",
     "output_type": "stream",
     "text": [
      "Processing Lines prompt_direct_entity: 100%|██████████| 1258/1258 [00:32<00:00, 38.64it/s]\n",
      "Processing Lines prompt_direct_entity_ontological: 100%|██████████| 1258/1258 [00:35<00:00, 35.51it/s]\n",
      "Processing Lines prompt_sequential_hierarchy: 100%|██████████| 1258/1258 [00:37<00:00, 33.57it/s]\n",
      "Processing Lines prompt_sequential_hierarchy_ontological: 100%|██████████| 1258/1258 [00:36<00:00, 34.60it/s]\n",
      "Processing Lines prompt_direct_entity_with_synonyms: 100%|██████████| 1258/1258 [00:34<00:00, 35.96it/s]\n",
      "Processing Lines prompt_sequential_hierarchy_with_synonyms: 100%|██████████| 1258/1258 [00:34<00:00, 36.18it/s]\n"
     ]
    },
    {
     "name": "stdout",
     "output_type": "stream",
     "text": [
      "run_path=PosixPath('outputs/anatomy/human-mouse/gemini-2.0-flash-lite/determinism/3') | DATASET='anatomy' | SUBSET='human-mouse' | MODEL='gemini-2.0-flash-lite' | exp_name='3'\n"
     ]
    },
    {
     "name": "stderr",
     "output_type": "stream",
     "text": [
      "Processing Lines prompt_direct_entity: 100%|██████████| 398/398 [00:11<00:00, 34.64it/s]\n",
      "Processing Lines prompt_direct_entity_ontological: 100%|██████████| 398/398 [00:12<00:00, 33.09it/s] \n",
      "Processing Lines prompt_sequential_hierarchy: 100%|██████████| 398/398 [00:10<00:00, 38.64it/s] \n",
      "Processing Lines prompt_sequential_hierarchy_ontological: 100%|██████████| 398/398 [00:11<00:00, 33.94it/s] \n",
      "Processing Lines prompt_direct_entity_with_synonyms: 100%|██████████| 398/398 [00:10<00:00, 37.76it/s] \n",
      "Processing Lines prompt_sequential_hierarchy_with_synonyms: 100%|██████████| 398/398 [00:11<00:00, 34.00it/s]\n"
     ]
    },
    {
     "name": "stdout",
     "output_type": "stream",
     "text": [
      "run_path=PosixPath('outputs/bioml-2024/omim-ordo/gemini-2.0-flash-lite/determinism/3') | DATASET='bioml-2024' | SUBSET='omim-ordo' | MODEL='gemini-2.0-flash-lite' | exp_name='3'\n"
     ]
    },
    {
     "name": "stderr",
     "output_type": "stream",
     "text": [
      "Processing Lines prompt_direct_entity: 100%|██████████| 1464/1464 [00:37<00:00, 39.28it/s]\n",
      "Processing Lines prompt_direct_entity_ontological: 100%|██████████| 1464/1464 [00:39<00:00, 36.93it/s]\n",
      "Processing Lines prompt_sequential_hierarchy: 100%|██████████| 1464/1464 [00:39<00:00, 36.74it/s]\n",
      "Processing Lines prompt_sequential_hierarchy_ontological: 100%|██████████| 1464/1464 [00:44<00:00, 32.96it/s]\n",
      "Processing Lines prompt_direct_entity_with_synonyms: 100%|██████████| 1464/1464 [00:47<00:00, 30.77it/s]\n",
      "Processing Lines prompt_sequential_hierarchy_with_synonyms: 100%|██████████| 1464/1464 [00:37<00:00, 39.08it/s]\n"
     ]
    },
    {
     "name": "stdout",
     "output_type": "stream",
     "text": [
      "run_path=PosixPath('outputs/largebio/fma-nci/gemini-2.0-flash-lite/determinism/3') | DATASET='largebio' | SUBSET='fma-nci' | MODEL='gemini-2.0-flash-lite' | exp_name='3'\n"
     ]
    },
    {
     "name": "stderr",
     "output_type": "stream",
     "text": [
      "Processing Lines prompt_direct_entity: 100%|██████████| 1258/1258 [00:35<00:00, 35.21it/s] \n",
      "Processing Lines prompt_direct_entity_ontological: 100%|██████████| 1258/1258 [00:34<00:00, 36.18it/s]\n",
      "Processing Lines prompt_sequential_hierarchy: 100%|██████████| 1258/1258 [00:36<00:00, 34.67it/s]\n",
      "Processing Lines prompt_sequential_hierarchy_ontological: 100%|██████████| 1258/1258 [00:37<00:00, 33.93it/s]\n",
      "Processing Lines prompt_direct_entity_with_synonyms: 100%|██████████| 1258/1258 [00:31<00:00, 39.35it/s]\n",
      "Processing Lines prompt_sequential_hierarchy_with_synonyms: 100%|██████████| 1258/1258 [00:35<00:00, 35.68it/s]\n"
     ]
    }
   ],
   "source": [
    "for exp_name in EXP_NAMES_MAP:\n",
    "    for DATASET in DATASETS_MAP:\n",
    "        for SUBSET in DATASETS_MAP[DATASET]:\n",
    "            # Load the ontologies here, if there are no precomputed prompts\n",
    "            for MODEL in MODELS:\n",
    "                llm_oracle = (\n",
    "                    OpenAIServer(\n",
    "                        api_key=os.environ[\"GEMINI_API_KEY\"],\n",
    "                        base_url=\"https://generativelanguage.googleapis.com/v1beta/openai/\",\n",
    "                    )\n",
    "                    if MODEL.startswith(\"gemini\")\n",
    "                    else OpenAIServer(api_key=os.environ[\"OPENAI_API_KEY\"])\n",
    "                )\n",
    "                llm_oracle.add_system_context(system_prompts.INTUITIVE_NATURAL_LANGUAGE_JUDGEMENT_MESSAGE)\n",
    "\n",
    "                run_path = format_predictions_run_path(DATASET, SUBSET, MODEL, EXPERIMENT_TYPE, exp_spec=exp_name)\n",
    "                print(f\"{run_path=} | {DATASET=} | {SUBSET=} | {MODEL=} | {exp_name=}\")\n",
    "\n",
    "                for prompt_name, prompt_function in PROMPT_FUNCTIONS_MAP.items():\n",
    "                    oracle_candidate_pairs = try_load_precomputed_oracle_pairs(DATASET, SUBSET, prompt_function)\n",
    "\n",
    "                    results, tokens_usage, confidences = parallel_samples_process(\n",
    "                        oracle_candidate_pairs, llm_oracle, onto_src, onto_tgt, MODEL, MAX_WORKERS, prompt_function\n",
    "                    )\n",
    "                    prediction_path, stats_path, diagram_path = format_storing_pathes_from_run_path(\n",
    "                        run_path, SUBSET, MODEL, prompt_name, suffix=\"\"\n",
    "                    )\n",
    "                    save_run_results(results, prediction_path, columns=[\"Source\", \"Target\", \"Prediction\", \"Confidence\"])\n",
    "                    plot_usage_histograms(\n",
    "                        tokens_usage, confidences, do_plot=False, do_print=False, suptitle=prompt_name\n",
    "                    )\n",
    "                    try:\n",
    "                        predictions = get_predictions_with_gt(run_path, DATASET, SUBSET, MODEL, prompt_name, suffix=\"\")\n",
    "                        analyze_results(\n",
    "                            predictions,\n",
    "                            print_results=False,\n",
    "                            plot_confusion_matrix=False,\n",
    "                            subtitle=f\"{SUBSET}: {MODEL} {prompt_name} | \",\n",
    "                            cm_save_path=diagram_path,\n",
    "                            stats_path=stats_path,\n",
    "                        )\n",
    "                    except Exception as e:  # noqa: BLE001\n",
    "                        print(f\"Error: {e}\")\n",
    "\n",
    "                store_run_metrics_df(PROMPT_FUNCTIONS_MAP, run_path, DATASET, SUBSET, MODEL)"
   ]
  },
  {
   "cell_type": "markdown",
   "metadata": {},
   "source": [
    "## Analysis\n"
   ]
  },
  {
   "cell_type": "code",
   "execution_count": null,
   "metadata": {},
   "outputs": [],
   "source": [
    "runs_array = []\n",
    "\n",
    "for directory in sorted(RUN_DIR.iterdir(), key=lambda x: x.name, reverse=True):\n",
    "    if not directory.is_dir():\n",
    "        continue\n",
    "    for file in directory.iterdir():\n",
    "        if '_' not in file.name:\n",
    "            continue\n",
    "        subset_name, model_name = file.name.split('_')[:2]\n",
    "        dataset_name = SUBSET_TO_DATASET_MAP.get(subset_name)\n",
    "    runs_array.append((directory.name, model_name, subset_name, dataset_name))\n",
    "\n",
    "len(runs_array), runs_array"
   ]
  },
  {
   "cell_type": "code",
   "execution_count": null,
   "metadata": {},
   "outputs": [],
   "source": [
    "runs = [\n",
    "    ('2025-05-01_11-47-16', 'gemini-2.0-flash', 'snomed-nci', 'largebio'),\n",
    "    ('2025-05-01_11-37-30', 'gemini-2.0-flash-lite', 'snomed-nci', 'largebio'),\n",
    "    ('2025-05-01_11-24-31', 'gemini-2.0-flash', 'fma-snomed', 'largebio'),\n",
    "    ('2025-05-01_11-19-48', 'gemini-2.0-flash-lite', 'fma-snomed', 'largebio'),\n",
    "    ('2025-05-01_11-15-05', 'gemini-2.0-flash', 'snomed-ncit.pharm', 'bioml-2024'),\n",
    "    ('2025-05-01_11-12-35', 'gemini-2.0-flash-lite', 'snomed-ncit.pharm', 'bioml-2024'),\n",
    "    ('2025-05-01_11-07-00', 'gemini-2.0-flash', 'snomed-ncit.neoplas', 'bioml-2024'),\n",
    "    ('2025-05-01_11-06-39', 'gemini-2.0-flash-lite', 'snomed-ncit.neoplas', 'bioml-2024'),\n",
    "    ('2025-05-01_10-56-46', 'gemini-2.0-flash', 'snomed-fma.body', 'bioml-2024'),\n",
    "    ('2025-05-01_10-50-33', 'gemini-2.0-flash-lite', 'snomed-fma.body', 'bioml-2024'),\n",
    "    ('2025-05-01_10-13-02', 'gemini-2.0-flash-lite', 'fma-snomed', 'largebio'),\n",
    "    ('2025-04-10_22-11-36', 'gemini-2.0-flash', 'ncit-doid', 'bioml-2024'),\n",
    "    ('2025-04-10_00-33-19', 'gemini-2.0-flash-lite', 'ncit-doid', 'bioml-2024'),\n",
    "    ('2025-04-06_22-05-02', 'gemini-2.0-flash-lite', 'omim-ordo', 'bioml-2024'),\n",
    "    ('2025-04-06_19-27-41', 'gemini-2.0-flash', 'omim-ordo', 'bioml-2024'),\n",
    "    ('2025-04-06_14-51-00', 'gemini-2.0-flash-lite', 'fma-nci', 'largebio'),\n",
    "    ('2025-04-06_14-18-46', 'gemini-2.0-flash', 'fma-nci', 'largebio'),\n",
    "    ('2025-04-04_19-41-28', 'gemini-2.0-flash', 'human-mouse', 'anatomy'),\n",
    "    ('2025-04-04_19-23-47', 'gemini-2.0-flash-lite', 'human-mouse', 'anatomy'),\n",
    "    ('2025-04-04_00-43-16', 'gemini-2.0-flash', 'fma-snomed', 'largebio'),\n",
    "    ('2025-03-28_10-15-04', 'gpt-4o-mini', 'fma-nci', 'largebio'),\n",
    "    ('2025-03-19_23-32-20', 'gpt-4o-mini', 'omim-ordo', 'bioml-2024'),\n",
    "    ('2025-03-19_22-17-52', 'gpt-4o-mini', 'ncit-doid', 'bioml-2024'),\n",
    "    ('2025-03-19_19-48-41', 'gpt-4o-mini', 'human-mouse', 'anatomy'),\n",
    "    ('2025-03-14_00-40-55', 'gpt-4o-mini', 'ncit-doid', 'bioml-2024'),\n",
    "    ('2025-03-12_17-21-53', 'gpt-4o-mini', 'human-mouse', 'anatomy'),\n",
    "    ('2025-03-12_14-43-32', 'gpt-4o-mini', 'omim-ordo', 'bioml-2024')\n",
    " ]\n",
    "\n",
    "suffix = \"_reduced\"\n",
    "\n",
    "dfs = []\n",
    "for run_subdir, model, set_name, dataset in runs:\n",
    "    metrics_df = read_run_metrics_df(run_subdir, suffix)\n",
    "    for col, value in zip([\"Dataset\", \"SubSet\", \"Model\"], [dataset, set_name, model]):\n",
    "        if col not in metrics_df.columns:\n",
    "            metrics_df[col] = value\n",
    "    metrics_df[\"Run\"] = run_subdir\n",
    "    dfs.append(metrics_df)\n",
    "\n",
    "results_df = pd.concat(dfs, ignore_index=True)\n",
    "results_df = results_df.sort_values(by=[\"Dataset\", \"SubSet\", \"Model\"])\n",
    "\n",
    "results_df.to_csv(format_combined_metrics_path(suffix), index=False)\n",
    "results_df"
   ]
  },
  {
   "cell_type": "markdown",
   "metadata": {},
   "source": [
    "### Rerun evaluation"
   ]
  },
  {
   "cell_type": "code",
   "execution_count": null,
   "metadata": {},
   "outputs": [],
   "source": [
    "runs = [\n",
    "    ('2025-05-01_11-47-16', 'gemini-2.0-flash', 'snomed-nci', 'largebio'),\n",
    "    ('2025-05-01_11-37-30', 'gemini-2.0-flash-lite', 'snomed-nci', 'largebio'),\n",
    "    ('2025-05-01_11-24-31', 'gemini-2.0-flash', 'fma-snomed', 'largebio'),\n",
    "    ('2025-05-01_11-19-48', 'gemini-2.0-flash-lite', 'fma-snomed', 'largebio'),\n",
    "    ('2025-05-01_11-15-05', 'gemini-2.0-flash', 'snomed-ncit.pharm', 'bioml-2024'),\n",
    "    ('2025-05-01_11-12-35', 'gemini-2.0-flash-lite', 'snomed-ncit.pharm', 'bioml-2024'),\n",
    "    ('2025-05-01_11-07-00', 'gemini-2.0-flash', 'snomed-ncit.neoplas', 'bioml-2024'),\n",
    "    ('2025-05-01_11-06-39', 'gemini-2.0-flash-lite', 'snomed-ncit.neoplas', 'bioml-2024'),\n",
    "    ('2025-05-01_10-56-46', 'gemini-2.0-flash', 'snomed-fma.body', 'bioml-2024'),\n",
    "    ('2025-05-01_10-50-33', 'gemini-2.0-flash-lite', 'snomed-fma.body', 'bioml-2024'),\n",
    "    ('2025-05-01_10-13-02', 'gemini-2.0-flash-lite', 'fma-snomed', 'largebio'),\n",
    "    ('2025-04-10_22-11-36', 'gemini-2.0-flash', 'ncit-doid', 'bioml-2024'),\n",
    "    ('2025-04-10_00-33-19', 'gemini-2.0-flash-lite', 'ncit-doid', 'bioml-2024'),\n",
    "    ('2025-04-06_22-05-02', 'gemini-2.0-flash-lite', 'omim-ordo', 'bioml-2024'),\n",
    "    ('2025-04-06_19-27-41', 'gemini-2.0-flash', 'omim-ordo', 'bioml-2024'),\n",
    "    ('2025-04-06_14-51-00', 'gemini-2.0-flash-lite', 'fma-nci', 'largebio'),\n",
    "    ('2025-04-06_14-18-46', 'gemini-2.0-flash', 'fma-nci', 'largebio'),\n",
    "    ('2025-04-04_19-41-28', 'gemini-2.0-flash', 'human-mouse', 'anatomy'),\n",
    "    ('2025-04-04_19-23-47', 'gemini-2.0-flash-lite', 'human-mouse', 'anatomy'),\n",
    "    ('2025-04-04_00-43-16', 'gemini-2.0-flash', 'fma-snomed', 'largebio'),\n",
    "    ('2025-03-28_10-15-04', 'gpt-4o-mini', 'fma-nci', 'largebio'),\n",
    "    ('2025-03-19_23-32-20', 'gpt-4o-mini', 'omim-ordo', 'bioml-2024'),\n",
    "    ('2025-03-19_22-17-52', 'gpt-4o-mini', 'ncit-doid', 'bioml-2024'),\n",
    "    ('2025-03-19_19-48-41', 'gpt-4o-mini', 'human-mouse', 'anatomy'),\n",
    "    ('2025-03-14_00-40-55', 'gpt-4o-mini', 'ncit-doid', 'bioml-2024'),\n",
    "    ('2025-03-12_17-21-53', 'gpt-4o-mini', 'human-mouse', 'anatomy'),\n",
    "    ('2025-03-12_14-43-32', 'gpt-4o-mini', 'omim-ordo', 'bioml-2024')\n",
    " ]"
   ]
  },
  {
   "cell_type": "code",
   "execution_count": null,
   "metadata": {},
   "outputs": [],
   "source": [
    "suffix = \"_reduced\"\n",
    "for run_subdir, model, set_name, dataset_name in tqdm(runs[:]):\n",
    "    run_path = RUN_DIR / run_subdir\n",
    "    print(f\"Run path: {run_path}, dataset: {dataset_name}, set: {set_name}, model: {model}\")\n",
    "\n",
    "    for prompt_name in tqdm(PROMPT_FUNCTIONS_MAP, disable=True):\n",
    "        try:\n",
    "            prediction_path, stats_path, diagram_path = format_storing_pathes_from_run_path(\n",
    "                run_path, set_name, model, prompt_name, suffix\n",
    "            )\n",
    "            predictions = get_predictions_with_gt(run_path, dataset_name, set_name, model, prompt_name, suffix)\n",
    "            analyze_results(\n",
    "                predictions,\n",
    "                print_results=False,\n",
    "                plot_confusion_matrix=False,\n",
    "                subtitle=f\"{set_name}: {model} {prompt_name} | \",\n",
    "                cm_save_path=diagram_path,\n",
    "                stats_path=stats_path,\n",
    "            )\n",
    "        except Exception as e:  # noqa: BLE001\n",
    "            print(f\"Error: {e!s}\")\n",
    "\n",
    "    store_run_metrics_df(PROMPT_FUNCTIONS_MAP, run_path, dataset_name, set_name, model, suffix)"
   ]
  },
  {
   "cell_type": "code",
   "execution_count": null,
   "metadata": {},
   "outputs": [],
   "source": []
  }
 ],
 "metadata": {
  "kernelspec": {
   "display_name": "Python 3",
   "language": "python",
   "name": "python3"
  },
  "language_info": {
   "codemirror_mode": {
    "name": "ipython",
    "version": 3
   },
   "file_extension": ".py",
   "mimetype": "text/x-python",
   "name": "python",
   "nbconvert_exporter": "python",
   "pygments_lexer": "ipython3",
   "version": "3.10.12"
  }
 },
 "nbformat": 4,
 "nbformat_minor": 2
}
