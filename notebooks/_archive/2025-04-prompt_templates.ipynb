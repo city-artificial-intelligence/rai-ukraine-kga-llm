{
 "cells": [
  {
   "cell_type": "markdown",
   "metadata": {},
   "source": [
    "# EDA of parents in anatomy dataset"
   ]
  },
  {
   "cell_type": "code",
   "execution_count": 1,
   "metadata": {},
   "outputs": [],
   "source": [
    "# ruff: noqa: T201, T203\n",
    "from __future__ import annotations\n",
    "\n",
    "import os\n",
    "from pathlib import Path\n",
    "\n",
    "if Path.cwd().name == \"notebooks\":\n",
    "    os.chdir(\"..\")\n",
    "\n",
    "import logging\n",
    "\n",
    "from dotenv import load_dotenv\n",
    "\n",
    "from config.config import DATA_DIR\n",
    "from src.formatting import (\n",
    "    format_oracle_pairs_filepath,\n",
    ")\n",
    "from src.onto_access import OntologyAccess\n",
    "from src.onto_object import OntologyEntryAttr\n",
    "from src.utils import read_oracle_pairs\n",
    "\n",
    "logging.getLogger().setLevel(logging.WARNING)\n",
    "load_dotenv()\n",
    "\n",
    "%load_ext autoreload\n",
    "%autoreload 2"
   ]
  },
  {
   "cell_type": "code",
   "execution_count": 2,
   "metadata": {},
   "outputs": [
    {
     "name": "stderr",
     "output_type": "stream",
     "text": [
      "* Owlready2 * Creating new ontology human <data/anatomy/human-mouse/human.owl#>.\n",
      "* Owlready2 * ADD TRIPLE data/anatomy/human-mouse/human.owl http://www.w3.org/1999/02/22-rdf-syntax-ns#type http://www.w3.org/2002/07/owl#Ontology\n",
      "* Owlready2 *     ...loading ontology human from data/anatomy/human-mouse/human.owl...\n",
      "* Owlready2 *     ...8 properties found: ObsoleteProperty, UNDEFINED_part_of, label, hasRelatedSynonym, hasDefaultNamespace, savedBy, hasDate, hasDefinition\n"
     ]
    },
    {
     "name": "stdout",
     "output_type": "stream",
     "text": [
      "* Owlready2 * Reseting property oboInOwl.ObsoleteProperty: new triples are now available.\n",
      "* Owlready2 * Reseting property oboInOwl.hasRelatedSynonym: new triples are now available.\n",
      "* Owlready2 * Reseting property oboInOwl.hasDefaultNamespace: new triples are now available.\n",
      "* Owlready2 * Reseting property oboInOwl.savedBy: new triples are now available.\n",
      "* Owlready2 * Reseting property oboInOwl.hasDate: new triples are now available.\n"
     ]
    }
   ],
   "source": [
    "DATASET_NAME = \"anatomy\"\n",
    "SET_NAME = \"human-mouse\"\n",
    "SOURCE_ONTOLOGY, TARGET_ONTOLOGY = \"mouse\", \"human\"\n",
    "\n",
    "# DATASET_NAME = \"bioml-2024\"\n",
    "# SET_NAME = \"omim-ordo\" #\"ncit-doid\"\n",
    "# SOURCE_ONTOLOGY, TARGET_ONTOLOGY = \"omim\", \"ordo\" #\"ncit\", \"doid\"\n",
    "\n",
    "src_onto_path = DATA_DIR / DATASET_NAME / SET_NAME / f\"{SOURCE_ONTOLOGY}.owl\"\n",
    "tgt_onto_path = DATA_DIR / DATASET_NAME / SET_NAME / f\"{TARGET_ONTOLOGY}.owl\"\n",
    "\n",
    "onto_src = OntologyAccess(src_onto_path, annotate_on_init=True)\n",
    "onto_tgt = OntologyAccess(tgt_onto_path, annotate_on_init=True)"
   ]
  },
  {
   "cell_type": "markdown",
   "metadata": {},
   "source": [
    "### Utils Functions"
   ]
  },
  {
   "cell_type": "code",
   "execution_count": 3,
   "metadata": {},
   "outputs": [],
   "source": [
    "def get_name_string(name_set):\n",
    "    \"\"\"Get a string representation of the name set.\"\"\"\n",
    "    # If the name_set is a set or list, join the elements with a comma\n",
    "    if isinstance(name_set, (set, list)):\n",
    "        return \", \".join(name_set)\n",
    "    return str(name_set)\n",
    "\n",
    "def get_single_name(name_set):\n",
    "    \"\"\"Get a single name from the name set.\"\"\"\n",
    "    return next(iter(name_set), None) if isinstance(name_set, (set, list)) else name_set\n",
    "\n",
    "def select_best_direct_entity_names(\n",
    "    src_entity: OntologyEntryAttr, tgt_entity: OntologyEntryAttr\n",
    ") -> list[OntologyEntryAttr, OntologyEntryAttr]:\n",
    "    \"\"\"If there are multiple direct parents, select one and find child element for it.\"\"\"\n",
    "    src_parents = next(iter(src_entity.get_direct_parents()))\n",
    "    tgt_parents = next(iter(tgt_entity.get_direct_parents()))\n",
    "    names = [get_name_string(x.get_preffered_names()) if x else None for x in [src_parents, tgt_parents, src_entity, tgt_entity]]\n",
    "\n",
    "    return names\n",
    "\n",
    "def format_hierarchy(hierarchy_dict: dict[int, set[OntologyEntryAttr]], no_level: bool = False, add_thing: bool = True) -> str:\n",
    "    formatted = []\n",
    "    for level, parents in sorted(hierarchy_dict.items()):\n",
    "        parent_name = get_name_string([get_name_string(i.get_preffered_names()) for i in parents])\n",
    "\n",
    "        if not add_thing:\n",
    "            if parent_name == \"Thing\":\n",
    "                continue\n",
    "\n",
    "        if no_level:\n",
    "            formatted.append(parent_name)\n",
    "        else:\n",
    "            formatted.append(f\"\\tLevel {level}: {parent_name}\")\n",
    "\n",
    "    if no_level:\n",
    "        return formatted\n",
    "    return \"\\n\".join(formatted)\n",
    "\n",
    "def select_best_direct_entity_names_with_synonyms(src_entity: OntologyEntryAttr, tgt_entity: OntologyEntryAttr, add_thing: bool = True) -> list:\n",
    "    \"\"\"Selects preferred names and synonyms for source and target entities and their direct parents.\"\"\"\n",
    "\n",
    "    def get_parent_name(entity):\n",
    "        parent = next(iter(entity.get_direct_parents()), None)\n",
    "        parent_name = get_name_string(parent.get_preffered_names()) if parent else None\n",
    "        if parent_name == \"Thing\" and not add_thing:\n",
    "            return None\n",
    "        return parent_name\n",
    "\n",
    "    def get_clean_synonyms(entity, is_src):\n",
    "        synonyms = list(entity.get_synonyms())\n",
    "        if is_src:\n",
    "            entity_class = str(onto_src.getClassByURI(entity.annotation[\"uri\"])).split('.')[-1]\n",
    "        else:\n",
    "            entity_class = str(onto_tgt.getClassByURI(entity.annotation[\"uri\"])).split('.')[-1]\n",
    "        return [] if len(synonyms) == 1 and synonyms[0] == entity_class else synonyms\n",
    "\n",
    "    src_parent_name = get_parent_name(src_entity)\n",
    "    tgt_parent_name = get_parent_name(tgt_entity)\n",
    "\n",
    "    src_entity_name = get_name_string(src_entity.get_preffered_names())\n",
    "    tgt_entity_name = get_name_string(tgt_entity.get_preffered_names())\n",
    "\n",
    "    src_synonyms = get_clean_synonyms(src_entity, True)\n",
    "    tgt_synonyms = get_clean_synonyms(tgt_entity, False)\n",
    "\n",
    "    return [\n",
    "        src_parent_name,  # string\n",
    "        tgt_parent_name,  # string\n",
    "        src_entity_name,  # string\n",
    "        tgt_entity_name,  # string\n",
    "        src_synonyms,     # list of strings\n",
    "        tgt_synonyms      # list of strings\n",
    "    ]\n",
    "\n",
    "\n",
    "def select_best_sequential_hierarchy_with_synonyms(src_parents_by_levels, tgt_parents_by_levels):\n",
    "    \"\"\"Selects the best synonyms for an entity and its hierarchical parents.\"\"\"\n",
    "\n",
    "    def get_synonyms_and_class(parents_by_levels, idx, is_src):\n",
    "        if len(parents_by_levels) > idx:\n",
    "            entry = next(iter(parents_by_levels[idx]))\n",
    "            syns = entry.get_synonyms() if hasattr(entry, \"get_synonyms\") else []\n",
    "\n",
    "            if is_src:\n",
    "                cls = str(onto_src.getClassByURI(entry.annotation[\"uri\"])).split('.')[-1]\n",
    "            else:\n",
    "                cls = str(onto_tgt.getClassByURI(entry.annotation[\"uri\"])).split('.')[-1]\n",
    "\n",
    "            return syns, cls\n",
    "        return [], \"\"\n",
    "\n",
    "    def clean(synonyms, cls):\n",
    "        return [] if len(synonyms) == 1 and next(iter(synonyms)) == cls else synonyms\n",
    "\n",
    "    src_results = [get_synonyms_and_class(src_parents_by_levels, i, True) for i in range(4)]\n",
    "    tgt_results = [get_synonyms_and_class(tgt_parents_by_levels, i, False) for i in range(4)]\n",
    "\n",
    "    src_cleaned = [clean(syns, cls) for syns, cls in src_results]\n",
    "    tgt_cleaned = [clean(syns, cls) for syns, cls in tgt_results]\n",
    "\n",
    "    return src_cleaned + tgt_cleaned\n"
   ]
  },
  {
   "cell_type": "markdown",
   "metadata": {},
   "source": [
    "### Ontological prompts"
   ]
  },
  {
   "cell_type": "code",
   "execution_count": 73,
   "metadata": {},
   "outputs": [],
   "source": [
    "def prompt_direct_entity_ontological(src_entity: OntologyEntryAttr, tgt_entity: OntologyEntryAttr) -> str:\n",
    "    \"\"\"Ontological prompt that uses ontology-focused language.\"\"\"\n",
    "    src_parent, tgt_parent, src_entity_names, tgt_entity_names = select_best_direct_entity_names(src_entity, tgt_entity)\n",
    "\n",
    "    prompt_lines = [\n",
    "        \"Analyze the following entities, each originating from a distinct biomedical ontology.\",\n",
    "        \"Your task is to assess whether they represent the **same ontological concept**, considering both their semantic meaning and hierarchical position.\",\n",
    "        f'\\n1. Source entity: \"{src_entity_names}\"',\n",
    "        f\"\\t- Direct ontological parent: {src_parent}\",\n",
    "        f'\\n2. Target entity: \"{tgt_entity_names}\"',\n",
    "        f\"\\t- Direct ontological parent: {tgt_parent}\",\n",
    "        \"\\nAre these entities **ontologically equivalent** within their respective ontologies? Respond with \\\"True\\\" or \\\"False\\\".\",\n",
    "    ]\n",
    "\n",
    "    return \"\\n\".join(prompt_lines)\n",
    "\n",
    "def prompt_sequential_hierarchy_ontological(src_entity: OntologyEntryAttr, tgt_entity: OntologyEntryAttr) -> str:\n",
    "    \"\"\"Ontological prompt that uses ontology-focused language, and takes hierarchical relationships into account.\"\"\"\n",
    "    src_hierarchy = format_hierarchy(src_entity.get_parents_by_levels(max_level=3))\n",
    "    tgt_hierarchy = format_hierarchy(tgt_entity.get_parents_by_levels(max_level=3))\n",
    "\n",
    "    prompt_lines = [\n",
    "        \"Analyze the following entities, each originating from a distinct biomedical ontology.\",\n",
    "        \"Each is represented by its **ontological lineage**, capturing its hierarchical placement from the most general to the most specific level.\",\n",
    "        f\"\\n1. Source entity ontological lineage:\\n{src_hierarchy}\",\n",
    "        f\"\\n2. Target entity ontological lineage:\\n{tgt_hierarchy}\",\n",
    "        \"\\nBased on their **ontological positioning, hierarchical relationships, and semantic alignment**, do these entities represent the **same ontological concept**? Respond with \\\"True\\\" or \\\"False\\\".\",\n",
    "    ]\n",
    "    return \"\\n\".join(prompt_lines)"
   ]
  },
  {
   "cell_type": "markdown",
   "metadata": {},
   "source": [
    "### Natural language prompts"
   ]
  },
  {
   "cell_type": "code",
   "execution_count": 83,
   "metadata": {},
   "outputs": [],
   "source": [
    "def prompt_direct_entity(src_entity: OntologyEntryAttr, tgt_entity: OntologyEntryAttr) -> str:\n",
    "    \"\"\"Regular prompt that uses natural language and is more intuitive.\"\"\"\n",
    "    src_parent, tgt_parent, src_entity_names, tgt_entity_names = select_best_direct_entity_names(src_entity, tgt_entity)\n",
    "    prompt_lines = [\n",
    "            \"We have two entities from different biomedical ontologies.\",\n",
    "            (\n",
    "                f'The first one is \"{src_entity_names}\"'\n",
    "                + (f', which belongs to the broader category \"{src_parent}\"' if src_parent else \"\")\n",
    "            ),\n",
    "            (\n",
    "                f'The second one is \"{tgt_entity_names}\"'\n",
    "                + (f', which belongs to the broader category \"{tgt_parent}\"' if tgt_parent else \"\")\n",
    "            ),\n",
    "            '\\nDo they mean the same thing? Respond with \"True\" or \"False\".',\n",
    "        ]\n",
    "    return \"\\n\".join(prompt_lines)\n",
    "\n",
    "def prompt_sequential_hierarchy(src_entity: OntologyEntryAttr, tgt_entity: OntologyEntryAttr) -> str:\n",
    "    \"\"\"Regular prompt that uses natural language and is more intuitive.\"\"\"\n",
    "    src_hierarchy = format_hierarchy(src_entity.get_parents_by_levels(max_level=3), True)\n",
    "    tgt_hierarchy = format_hierarchy(tgt_entity.get_parents_by_levels(max_level=3), True)\n",
    "\n",
    "    prompt_lines = [\n",
    "            \"We have two entities from different biomedical ontologies.\",\n",
    "            (\n",
    "                f'The first one is \"{src_hierarchy[0]}\"'\n",
    "                + (f', which belongs to the broader category \"{src_hierarchy[1]}\"' if len(src_hierarchy) >= 1 else \"\")\n",
    "                + (f', under the even broader category \"{src_hierarchy[2]}\"' if len(src_hierarchy) >= 2 else \"\")\n",
    "            ),\n",
    "            (\n",
    "                f'The second one is \"{tgt_hierarchy[0]}\"'\n",
    "                + (f', which belongs to the broader category \"{tgt_hierarchy[1]}\"' if len(tgt_hierarchy) >= 1 else \"\")\n",
    "                + (f', under the even broader category \"{tgt_hierarchy[2]}\"' if len(tgt_hierarchy) >= 2 else \"\")\n",
    "            ),\n",
    "            '\\nDo they mean the same thing? Respond with \"True\" or \"False\".',\n",
    "        ]\n",
    "\n",
    "    return \"\\n\".join(prompt_lines)\n",
    "\n"
   ]
  },
  {
   "cell_type": "markdown",
   "metadata": {},
   "source": [
    "### Natural language prompts with synonyms"
   ]
  },
  {
   "cell_type": "code",
   "execution_count": 84,
   "metadata": {},
   "outputs": [],
   "source": [
    "def prompt_direct_entity_with_synonyms(src_entity: OntologyEntryAttr, tgt_entity: OntologyEntryAttr) -> str:\n",
    "    \"\"\"Natural language prompt that includes synonyms for a more intuitive comparison.\"\"\"\n",
    "    src_parent, tgt_parent, src_entity_names, tgt_entity_names, src_synonyms, tgt_synonyms = (\n",
    "        select_best_direct_entity_names_with_synonyms(src_entity, tgt_entity)\n",
    "    )\n",
    "\n",
    "    src_synonyms_text = (\n",
    "    f\", also known as {', '.join(f'\\\"{s}\\\"' for s in src_synonyms)}\"\n",
    "    if src_synonyms else \"\"\n",
    "    )\n",
    "\n",
    "    tgt_synonyms_text = (\n",
    "        f\", also known as {', '.join(f'\\\"{s}\\\"' for s in tgt_synonyms)}\"\n",
    "        if tgt_synonyms else \"\"\n",
    "    )\n",
    "    prompt_lines = [\n",
    "        \"We have two entities from different biomedical ontologies.\",\n",
    "        f'The first one is \"{src_entity_names}\"{src_synonyms_text}, which falls under the category \"{src_parent}\".',\n",
    "        f'The second one is \"{tgt_entity_names}\"{tgt_synonyms_text}, which falls under the category \"{tgt_parent}\".',\n",
    "        '\\nDo they mean the same thing? Respond with \"True\" or \"False\".'\n",
    "    ]\n",
    "    return \"\\n\".join(prompt_lines)\n",
    "\n",
    "\n",
    "def prompt_sequential_hierarchy_with_synonyms(src_entity: OntologyEntryAttr,\n",
    "                                               tgt_entity: OntologyEntryAttr) -> str:\n",
    "    \"\"\"Generates a natural language prompt asking whether two ontology entities (with synonyms and hierarchy)\n",
    "    represent the same concept (True/False).\n",
    "    \"\"\"\n",
    "    src_hierarchy = format_hierarchy(src_entity.get_parents_by_levels(max_level=3), True)\n",
    "    tgt_hierarchy = format_hierarchy(tgt_entity.get_parents_by_levels(max_level=3), True)\n",
    "\n",
    "    (src_syns,\n",
    "     src_p1_syns, src_p2_syns, src_p3_syns,\n",
    "     tgt_syns,\n",
    "     tgt_p1_syns, tgt_p2_syns, tgt_p3_syns) = \\\n",
    "        select_best_sequential_hierarchy_with_synonyms(\n",
    "            src_entity.get_parents_by_levels(max_level=3),\n",
    "            tgt_entity.get_parents_by_levels(max_level=3)\n",
    "        )\n",
    "\n",
    "    def describe_entity(hierarchy: list[str],\n",
    "                        entity_syns: list[str],\n",
    "                        parent_syns: list[list[str]]) -> str:\n",
    "        # Base name and its synonyms\n",
    "        name_part = f'\"{hierarchy[0]}\"'\n",
    "        if entity_syns:\n",
    "            alt = ', '.join(f'\"{s}\"' for s in entity_syns)\n",
    "            name_part += f', also known as {alt}'\n",
    "\n",
    "        parts = [name_part]\n",
    "\n",
    "        labels = [\"belongs to broader category\", \"under the even broader category\", \"under the even broader category\"]\n",
    "        for i, parent_name in enumerate(hierarchy[1:]):\n",
    "            text = f'{labels[i]} \"{parent_name}\"'\n",
    "            if parent_syns[i]:\n",
    "                alt = ', '.join(f'\"{s}\"' for s in parent_syns[i])\n",
    "                text += f' (also known as {alt})'\n",
    "            parts.append(text)\n",
    "\n",
    "        return ', '.join(parts)\n",
    "\n",
    "    src_desc = describe_entity(src_hierarchy, src_syns, [src_p1_syns, src_p2_syns, src_p3_syns])\n",
    "    tgt_desc = describe_entity(tgt_hierarchy, tgt_syns, [tgt_p1_syns, tgt_p2_syns, tgt_p3_syns])\n",
    "\n",
    "    prompt_lines = [\n",
    "        \"We have two entities from different biomedical ontologies.\",\n",
    "        f\"The first one is {src_desc}.\",\n",
    "        f\"The second one is {tgt_desc}.\",\n",
    "        '\\nDo they mean the same thing? Respond with \"True\" or \"False\".'\n",
    "    ]\n",
    "    return \"\\n\".join(prompt_lines)\n"
   ]
  },
  {
   "cell_type": "code",
   "execution_count": 85,
   "metadata": {},
   "outputs": [],
   "source": [
    "src_entity, tgt_entity = read_oracle_pairs(format_oracle_pairs_filepath(DATASET_NAME, SET_NAME))[39] # 34\n",
    "try:\n",
    "    src_entity, tgt_entity = OntologyEntryAttr(src_entity, onto_src), OntologyEntryAttr(tgt_entity, onto_tgt)\n",
    "except AssertionError:\n",
    "    src_entity, tgt_entity = OntologyEntryAttr(tgt_entity, onto_src), OntologyEntryAttr(src_entity, onto_tgt)"
   ]
  },
  {
   "cell_type": "markdown",
   "metadata": {},
   "source": [
    "# New prompts instances"
   ]
  },
  {
   "cell_type": "markdown",
   "metadata": {},
   "source": [
    "Ontological prompts"
   ]
  },
  {
   "cell_type": "code",
   "execution_count": 86,
   "metadata": {},
   "outputs": [
    {
     "name": "stdout",
     "output_type": "stream",
     "text": [
      "Analyze the following entities, each originating from a distinct biomedical ontology.\n",
      "Your task is to assess whether they represent the **same ontological concept**, considering both their semantic meaning and hierarchical position.\n",
      "\n",
      "1. Source entity: \"alveolus epithelium\"\n",
      "\t- Direct ontological parent: lung epithelium\n",
      "\n",
      "2. Target entity: \"Alveolar_Epithelium\"\n",
      "\t- Direct ontological parent: Epithelium\n",
      "\n",
      "Are these entities **ontologically equivalent** within their respective ontologies? Respond with \"True\" or \"False\".\n"
     ]
    }
   ],
   "source": [
    "print(prompt_direct_entity_ontological(src_entity, tgt_entity))"
   ]
  },
  {
   "cell_type": "code",
   "execution_count": 87,
   "metadata": {},
   "outputs": [
    {
     "name": "stdout",
     "output_type": "stream",
     "text": [
      "Analyze the following entities, each originating from a distinct biomedical ontology.\n",
      "Each is represented by its **ontological lineage**, capturing its hierarchical placement from the most general to the most specific level.\n",
      "\n",
      "1. Source entity ontological lineage:\n",
      "\tLevel 0: alveolus epithelium\n",
      "\tLevel 1: lung epithelium\n",
      "\tLevel 2: respiratory system epithelium\n",
      "\tLevel 3: Thing\n",
      "\n",
      "2. Target entity ontological lineage:\n",
      "\tLevel 0: Alveolar_Epithelium\n",
      "\tLevel 1: Epithelium\n",
      "\tLevel 2: Epithelial_Tissue, Normal_Tissue\n",
      "\tLevel 3: Tissue\n",
      "\n",
      "Based on their **ontological positioning, hierarchical relationships, and semantic alignment**, do these entities represent the **same ontological concept**? Respond with \"True\" or \"False\".\n"
     ]
    }
   ],
   "source": [
    "print(prompt_sequential_hierarchy_ontological(src_entity, tgt_entity))"
   ]
  },
  {
   "cell_type": "code",
   "execution_count": null,
   "metadata": {},
   "outputs": [],
   "source": []
  },
  {
   "cell_type": "markdown",
   "metadata": {},
   "source": [
    "Natural language prompts"
   ]
  },
  {
   "cell_type": "code",
   "execution_count": 88,
   "metadata": {},
   "outputs": [
    {
     "name": "stdout",
     "output_type": "stream",
     "text": [
      "We have two entities from different biomedical ontologies.\n",
      "The first one is \"alveolus epithelium\", which belongs to the broader category \"lung epithelium\"\n",
      "The second one is \"Alveolar_Epithelium\", which belongs to the broader category \"Epithelium\"\n",
      "\n",
      "Do they mean the same thing? Respond with \"True\" or \"False\".\n"
     ]
    }
   ],
   "source": [
    "print(prompt_direct_entity(src_entity, tgt_entity))"
   ]
  },
  {
   "cell_type": "code",
   "execution_count": 89,
   "metadata": {},
   "outputs": [
    {
     "name": "stdout",
     "output_type": "stream",
     "text": [
      "We have two entities from different biomedical ontologies.\n",
      "The first one is \"alveolus epithelium\", which belongs to the broader category \"lung epithelium\", under the even broader category \"respiratory system epithelium\"\n",
      "The second one is \"Alveolar_Epithelium\", which belongs to the broader category \"Epithelium\", under the even broader category \"Epithelial_Tissue, Normal_Tissue\"\n",
      "\n",
      "Do they mean the same thing? Respond with \"True\" or \"False\".\n"
     ]
    }
   ],
   "source": [
    "print(prompt_sequential_hierarchy(src_entity, tgt_entity))"
   ]
  },
  {
   "cell_type": "markdown",
   "metadata": {},
   "source": [
    "Synonym prompts"
   ]
  },
  {
   "cell_type": "code",
   "execution_count": 90,
   "metadata": {},
   "outputs": [
    {
     "name": "stdout",
     "output_type": "stream",
     "text": [
      "We have two entities from different biomedical ontologies.\n",
      "The first one is \"alveolus epithelium\", which falls under the category \"lung epithelium\".\n",
      "The second one is \"Alveolar_Epithelium\", also known as \"Lung Alveolar Epithelia\", \"Alveolar Epithelium\", \"Epithelia of lung alveoli. The layer of cells covering the lining of the tiny air sacs at the end of the bronchioles.\", which falls under the category \"Epithelium\".\n",
      "\n",
      "Do they mean the same thing? Respond with \"True\" or \"False\".\n"
     ]
    }
   ],
   "source": [
    "print(prompt_direct_entity_with_synonyms(src_entity, tgt_entity))"
   ]
  },
  {
   "cell_type": "code",
   "execution_count": 91,
   "metadata": {},
   "outputs": [
    {
     "name": "stdout",
     "output_type": "stream",
     "text": [
      "We have two entities from different biomedical ontologies.\n",
      "The first one is \"alveolus epithelium\", belongs to broader category \"lung epithelium\", under the even broader category \"respiratory system epithelium\" (also known as \"respiratory system mucosa\"), under the even broader category \"Thing\".\n",
      "The second one is \"Alveolar_Epithelium\", also known as \"Lung Alveolar Epithelia\", \"Alveolar Epithelium\", \"Epithelia of lung alveoli. The layer of cells covering the lining of the tiny air sacs at the end of the bronchioles.\", belongs to broader category \"Epithelium\" (also known as \"epithelium\", \"Epithelium\"), under the even broader category \"Epithelial_Tissue, Normal_Tissue\" (also known as \"Epithelial Tissue\"), under the even broader category \"Tissue\" (also known as \"Tissue Types\", \"Normal Tissue\", \"An aggregate of cells with similar or identical specialized characteristics, contributing to the performance of a specific function.  Tissues are parts of organs.\", \"tissue\", \"Tissues\", \"Tissue\").\n",
      "\n",
      "Do they mean the same thing? Respond with \"True\" or \"False\".\n"
     ]
    }
   ],
   "source": [
    "print(prompt_sequential_hierarchy_with_synonyms(src_entity, tgt_entity))"
   ]
  },
  {
   "cell_type": "code",
   "execution_count": null,
   "metadata": {},
   "outputs": [],
   "source": []
  },
  {
   "cell_type": "markdown",
   "metadata": {},
   "source": [
    "Other"
   ]
  },
  {
   "cell_type": "code",
   "execution_count": 92,
   "metadata": {},
   "outputs": [
    {
     "name": "stdout",
     "output_type": "stream",
     "text": [
      "\tLevel 0: alveolus epithelium\n",
      "\tLevel 1: lung epithelium\n",
      "\tLevel 2: respiratory system epithelium\n",
      "\tLevel 3: Thing\n"
     ]
    }
   ],
   "source": [
    "print(format_hierarchy(src_entity.get_parents_by_levels(max_level=3), False, True))"
   ]
  },
  {
   "cell_type": "code",
   "execution_count": 93,
   "metadata": {},
   "outputs": [
    {
     "name": "stdout",
     "output_type": "stream",
     "text": [
      "\tLevel 0: Alveolar_Epithelium\n",
      "\tLevel 1: Epithelium\n",
      "\tLevel 2: Epithelial_Tissue, Normal_Tissue\n",
      "\tLevel 3: Tissue\n"
     ]
    }
   ],
   "source": [
    "print(format_hierarchy(tgt_entity.get_parents_by_levels(max_level=3), False, True))"
   ]
  },
  {
   "cell_type": "code",
   "execution_count": 94,
   "metadata": {},
   "outputs": [
    {
     "name": "stdout",
     "output_type": "stream",
     "text": [
      "{'class': mouse.MA_0001771, 'uri': 'http://mouse.owl#MA_0001771', 'preffered_names': {'alveolus epithelium'}, 'synonyms': {'MA_0001771'}, 'all_names': {'alveolus epithelium'}, 'parents': {mouse.MA_0001823, mouse.MA_0001783, owl.Thing}, 'children': set()}\n",
      "{'alveolus epithelium'}\n",
      "[{'respiratory system epithelium'}, {'lung epithelium'}, {'Thing'}]\n",
      "[]\n",
      "{'MA_0001771'}\n",
      "{mouse.MA_0001783}\n",
      "{mouse.MA_0001771, mouse.MA_0001772}\n"
     ]
    }
   ],
   "source": [
    "print(src_entity)\n",
    "print(src_entity.get_all_entity_names())\n",
    "print(src_entity.get_parents_preferred_names())\n",
    "print(src_entity.get_children_preferred_names())\n",
    "print(src_entity.get_synonyms())\n",
    "print(src_entity.get_direct_parents())\n",
    "print(src_entity.get_direct_parents().pop().get_direct_children())"
   ]
  },
  {
   "cell_type": "code",
   "execution_count": 95,
   "metadata": {},
   "outputs": [
    {
     "name": "stdout",
     "output_type": "stream",
     "text": [
      "{'class': human.NCI_C12867, 'uri': 'http://human.owl#NCI_C12867', 'preffered_names': {'Alveolar_Epithelium'}, 'synonyms': {'Lung Alveolar Epithelia', 'Alveolar Epithelium', 'Epithelia of lung alveoli. The layer of cells covering the lining of the tiny air sacs at the end of the bronchioles.'}, 'all_names': {'Lung Alveolar Epithelia', 'Alveolar Epithelium', 'Epithelia of lung alveoli. The layer of cells covering the lining of the tiny air sacs at the end of the bronchioles.', 'Alveolar_Epithelium'}, 'parents': {human.NCI_C12219, human.NCI_C12710, human.NCI_C33177, owl.Thing, human.NCI_C33904, human.NCI_C12801, human.NCI_C45714, human.NCI_C21599}, 'children': set()}\n",
      "{'Lung Alveolar Epithelia', 'Alveolar Epithelium', 'Epithelia of lung alveoli. The layer of cells covering the lining of the tiny air sacs at the end of the bronchioles.', 'Alveolar_Epithelium'}\n",
      "[{'Anatomic_Structure_System_or_Substance'}, {'Normal_Tissue'}, {'Epithelium'}, {'Thing'}, {'Other_Anatomic_Concept'}, {'Tissue'}, {'Epithelial_Tissue'}, {'Microanatomy'}]\n",
      "[]\n",
      "{'Lung Alveolar Epithelia', 'Alveolar Epithelium', 'Epithelia of lung alveoli. The layer of cells covering the lining of the tiny air sacs at the end of the bronchioles.'}\n",
      "{human.NCI_C12710}\n",
      "{human.NCI_C49263, human.NCI_C49309, human.NCI_C49218, human.NCI_C13103, human.NCI_C49308, human.NCI_C49261, human.NCI_C12937, human.NCI_C42079, human.NCI_C33374, human.NCI_C12963, human.NCI_C49247, human.NCI_C25787, human.NCI_C49313, human.NCI_C12867, human.NCI_C33232, human.NCI_C43370, human.NCI_C33419, human.NCI_C12848, human.NCI_C33554, human.NCI_C32804, human.NCI_C33622, human.NCI_C49220, human.NCI_C49264, human.NCI_C13177, human.NCI_C33203, human.NCI_C33470}\n"
     ]
    }
   ],
   "source": [
    "print(tgt_entity)\n",
    "print(tgt_entity.get_all_entity_names())\n",
    "print(tgt_entity.get_parents_preferred_names())\n",
    "print(tgt_entity.get_children_preferred_names())\n",
    "print(tgt_entity.get_synonyms())\n",
    "print(tgt_entity.get_direct_parents())\n",
    "print(tgt_entity.get_direct_parents().pop().get_direct_children())"
   ]
  },
  {
   "cell_type": "code",
   "execution_count": null,
   "metadata": {},
   "outputs": [],
   "source": []
  },
  {
   "cell_type": "code",
   "execution_count": null,
   "metadata": {},
   "outputs": [],
   "source": []
  }
 ],
 "metadata": {
  "kernelspec": {
   "display_name": "venv",
   "language": "python",
   "name": "python3"
  },
  "language_info": {
   "codemirror_mode": {
    "name": "ipython",
    "version": 3
   },
   "file_extension": ".py",
   "mimetype": "text/x-python",
   "name": "python",
   "nbconvert_exporter": "python",
   "pygments_lexer": "ipython3",
   "version": "3.12.10"
  }
 },
 "nbformat": 4,
 "nbformat_minor": 2
}
