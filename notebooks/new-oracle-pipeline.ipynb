{
 "cells": [
  {
   "cell_type": "code",
   "execution_count": null,
   "metadata": {},
   "outputs": [],
   "source": [
    "# ruff: noqa: T201, T203\n",
    "from __future__ import annotations\n",
    "\n",
    "import os\n",
    "from pathlib import Path\n",
    "\n",
    "if Path.cwd().name == \"notebooks\":\n",
    "    os.chdir(\"..\")\n",
    "\n",
    "import logging\n",
    "\n",
    "from dotenv import load_dotenv\n",
    "\n",
    "from config.config import DATA_DIR\n",
    "from src.evaluate import analyze_results, get_predictions_with_gt, plot_usage_histograms\n",
    "from src.formatting import (\n",
    "    format_oracle_pairs_filepath,\n",
    "    format_run_path,\n",
    "    format_storing_pathes_from_run_path,\n",
    ")\n",
    "from src.LLM_servers.openai import OpenAIServer\n",
    "from src.onto_access import OntologyAccess\n",
    "from src.onto_object import OntologyEntryAttr\n",
    "from src.processing import parallel_samples_process\n",
    "from src.prompts.system import BASELINE_INITIALIZATION_MESSAGE\n",
    "from src.result_formatting import print_results_entry\n",
    "from src.utils import read_oracle_pairs, save_run_results\n",
    "\n",
    "logging.getLogger().setLevel(logging.WARNING)\n",
    "load_dotenv()\n",
    "\n",
    "%load_ext autoreload\n",
    "%autoreload 2"
   ]
  },
  {
   "cell_type": "code",
   "execution_count": 2,
   "metadata": {},
   "outputs": [],
   "source": [
    "llm_oracle = OpenAIServer()\n",
    "llm_oracle.add_system_context(BASELINE_INITIALIZATION_MESSAGE)"
   ]
  },
  {
   "cell_type": "code",
   "execution_count": 3,
   "metadata": {},
   "outputs": [
    {
     "name": "stderr",
     "output_type": "stream",
     "text": [
      "* Owlready2 * Creating new ontology human <data/anatomy/human-mouse/human.owl#>.\n",
      "* Owlready2 * ADD TRIPLE data/anatomy/human-mouse/human.owl http://www.w3.org/1999/02/22-rdf-syntax-ns#type http://www.w3.org/2002/07/owl#Ontology\n",
      "* Owlready2 *     ...loading ontology human from data/anatomy/human-mouse/human.owl...\n"
     ]
    },
    {
     "name": "stdout",
     "output_type": "stream",
     "text": [
      "* Owlready2 * Reseting property oboInOwl.ObsoleteProperty: new triples are now available.\n",
      "* Owlready2 * Reseting property oboInOwl.hasRelatedSynonym: new triples are now available.\n",
      "* Owlready2 * Reseting property oboInOwl.hasDefaultNamespace: new triples are now available.\n",
      "* Owlready2 * Reseting property oboInOwl.savedBy: new triples are now available.\n",
      "* Owlready2 * Reseting property oboInOwl.hasDate: new triples are now available.\n"
     ]
    },
    {
     "name": "stderr",
     "output_type": "stream",
     "text": [
      "* Owlready2 *     ...8 properties found: ObsoleteProperty, UNDEFINED_part_of, label, hasRelatedSynonym, hasDefaultNamespace, savedBy, hasDate, hasDefinition\n"
     ]
    }
   ],
   "source": [
    "DATASET_NAME = \"anatomy\"\n",
    "SET_NAME = \"human-mouse\"\n",
    "SOURCE_ONTOLOGY = \"mouse\"\n",
    "TARGET_ONTOLOGY = \"human\"\n",
    "\n",
    "src_onto_path = DATA_DIR / DATASET_NAME / SET_NAME / f\"{SOURCE_ONTOLOGY}.owl\"\n",
    "tgt_onto_path = DATA_DIR / DATASET_NAME / SET_NAME / f\"{TARGET_ONTOLOGY}.owl\"\n",
    "\n",
    "onto_src = OntologyAccess(src_onto_path, annotate_on_init=True)\n",
    "onto_tgt = OntologyAccess(tgt_onto_path, annotate_on_init=True)"
   ]
  },
  {
   "cell_type": "code",
   "execution_count": null,
   "metadata": {},
   "outputs": [
    {
     "name": "stdout",
     "output_type": "stream",
     "text": [
      "{'class': human.NCI_C33075, 'uri': 'http://human.owl#NCI_C33075', 'preffered_names': {'Meibomian_Gland'}, 'synonyms': {'Meibomian Gland'}, 'all_names': {'Meibomian_Gland', 'Meibomian Gland'}, 'parents': {owl.Thing, human.NCI_C13018, human.NCI_C13319, human.NCI_C12712, human.NCI_C33519, human.NCI_C12219}, 'children': set()}\n",
      "{'Meibomian_Gland', 'Meibomian Gland'}\n",
      "[{'Thing'}, {'Organ'}, {'Gland'}, {'Exocrine_Gland'}, {'Sebaceous_Gland'}, {'Anatomic_Structure_System_or_Substance'}]\n",
      "[]\n",
      "{'Meibomian Gland'}\n",
      "{human.NCI_C33519}\n",
      "{human.NCI_C33075, human.NCI_C33521}\n",
      "{0: {human.NCI_C33075}, 1: {human.NCI_C33519}, 2: {human.NCI_C12712}, 3: {human.NCI_C13319}, 4: {human.NCI_C13018}, 5: {human.NCI_C12219}, 6: {owl.Thing}}\n"
     ]
    }
   ],
   "source": [
    "# access the ontology entry example\n",
    "entry_uri = \"http://human.owl#NCI_C33075\"\n",
    "entry = OntologyEntryAttr(entry_uri, onto_tgt)\n",
    "\n",
    "print(entry)\n",
    "print(entry.get_all_entity_names())\n",
    "print(entry.get_parents_preferred_names())\n",
    "print(entry.get_children_preferred_names())\n",
    "print(entry.get_synonyms())\n",
    "print(entry.get_direct_parents())\n",
    "print(entry.get_direct_parents().pop().get_direct_children())\n",
    "\n",
    "print(entry.get_parents_by_levels(max_level=8))"
   ]
  },
  {
   "cell_type": "code",
   "execution_count": 2,
   "metadata": {},
   "outputs": [],
   "source": [
    "# experiment with the promts here\n",
    "# if the promts will become staged in the future - move to the prompt module\n",
    "\n",
    "def prompt_only_names(src_entety: OntologyEntryAttr, tgt_entety: OntologyEntryAttr) -> str:\n",
    "    return f\"\"\"\n",
    "    Given two entities from different ontologies with their names, determine if these concepts are the same:\n",
    "\n",
    "    1. Source Entity:\n",
    "    All Entity names: {src_entety.get_all_entity_names()}\n",
    "\n",
    "    2. Target Entity:\n",
    "    All Entity names: {tgt_entety.get_all_entity_names()}\n",
    "\n",
    "    Response with True or False\n",
    "    \"\"\"\n",
    "\n",
    "\n",
    "def prompt_with_hierarchy(src_entety: OntologyEntryAttr, tgt_entety: OntologyEntryAttr) -> str:\n",
    "    return f\"\"\"\n",
    "    Given two entities from different ontologies with their names, parent relationships, and child relationships, determine if these concepts are the same:\n",
    "\n",
    "    1. Source Entity:\n",
    "    All Entity names: {src_entety.get_all_entity_names()}\n",
    "    Parent Entity Namings: {src_entety.get_parents_preferred_names()}\n",
    "    Child Entity Namings: {src_entety.get_children_preferred_names()}\n",
    "\n",
    "    2. Target Entity:\n",
    "    All Entity names: {tgt_entety.get_all_entity_names()}\n",
    "    Parent Entity Namings: {tgt_entety.get_parents_preferred_names()}\n",
    "    Child Entity Namings: {tgt_entety.get_children_preferred_names()}\n",
    "\n",
    "    Response with True or False\n",
    "    \"\"\"  # noqa: E501\n"
   ]
  },
  {
   "cell_type": "code",
   "execution_count": null,
   "metadata": {},
   "outputs": [
    {
     "name": "stderr",
     "output_type": "stream",
     "text": [
      "Processing Lines prompt_only_names:   0%|          | 0/10 [00:00<?, ?it/s]"
     ]
    },
    {
     "name": "stderr",
     "output_type": "stream",
     "text": [
      "Processing Lines prompt_only_names: 100%|██████████| 10/10 [00:01<00:00,  6.68it/s]\n"
     ]
    },
    {
     "name": "stdout",
     "output_type": "stream",
     "text": [
      "Mean input tockens: 157.6\n",
      "Mean output tockens: 6.0\n",
      "Total input tockens: 1576\n",
      "Total output tockens: 60\n"
     ]
    },
    {
     "data": {
      "image/png": "[encoded data removed]",
      "text/plain": [
       "<Figure size 1200x400 with 3 Axes>"
      ]
     },
     "metadata": {},
     "output_type": "display_data"
    },
    {
     "name": "stdout",
     "output_type": "stream",
     "text": [
      "Accuracy: 0.600\n",
      "Precision: 0.750\n",
      "Recall: 0.750\n",
      "F1 Score: 0.750\n"
     ]
    },
    {
     "data": {
      "image/png": "[encoded data removed]",
      "text/plain": [
       "<Figure size 400x400 with 1 Axes>"
      ]
     },
     "metadata": {},
     "output_type": "display_data"
    },
    {
     "name": "stdout",
     "output_type": "stream",
     "text": [
      "\n",
      "\n",
      "\n",
      "\n"
     ]
    }
   ],
   "source": [
    "MAX_WORKERS = 6\n",
    "MODEL = \"gpt-4o-mini\"\n",
    "\n",
    "\n",
    "EXP_NAMES_TO_PROMPT_FUNCTIONS = {\n",
    "    \"only_names\": prompt_only_names,\n",
    "    \"with_hierarchy\": prompt_with_hierarchy,\n",
    "}\n",
    "\n",
    "oracle_candidate_pairs_path = format_oracle_pairs_filepath(DATASET_NAME, SET_NAME)\n",
    "\n",
    "oracle_candidate_pairs = read_oracle_pairs(oracle_candidate_pairs_path)[:10]\n",
    "\n",
    "run_path = format_run_path()\n",
    "\n",
    "for current_exp_name, prompt_function in EXP_NAMES_TO_PROMPT_FUNCTIONS.items():\n",
    "    results, tokens_usage, confidences = parallel_samples_process(\n",
    "        oracle_candidate_pairs, llm_oracle, onto_src, onto_tgt, MODEL, MAX_WORKERS, prompt_function\n",
    "    )\n",
    "    prediction_path, stats_path, diagram_path = format_storing_pathes_from_run_path(\n",
    "        run_path, SET_NAME, MODEL, current_exp_name\n",
    "    )\n",
    "    save_run_results(results, prediction_path, columns=[\"Source\", \"Target\", \"Prediction\", \"Confidence\"])\n",
    "\n",
    "    plot_usage_histograms(tokens_usage, confidences, do_plot=True, do_print=True, suptitle=current_exp_name)\n",
    "\n",
    "    predictions = get_predictions_with_gt(run_path, DATASET_NAME, SET_NAME, MODEL, current_exp_name)\n",
    "    analyze_results(\n",
    "        predictions,\n",
    "        print_results=True,\n",
    "        plot_confusion_matrix=True,\n",
    "        subtitle=f\"{SET_NAME}: {MODEL} {current_exp_name} | \",\n",
    "        cm_save_path=diagram_path,\n",
    "        stats_path=stats_path,\n",
    "    )\n",
    "    print(\"\\n\\n\\n\")\n",
    "    break\n"
   ]
  },
  {
   "cell_type": "code",
   "execution_count": 8,
   "metadata": {},
   "outputs": [
    {
     "name": "stdout",
     "output_type": "stream",
     "text": [
      "Accuracy: 0.600\n",
      "Precision: 0.750\n",
      "Recall: 0.750\n",
      "F1 Score: 0.750\n"
     ]
    },
    {
     "data": {
      "image/png": "[encoded data removed]",
      "text/plain": [
       "<Figure size 400x400 with 1 Axes>"
      ]
     },
     "metadata": {},
     "output_type": "display_data"
    }
   ],
   "source": [
    "exp_name = \"only_names\"\n",
    "predictions = get_predictions_with_gt(run_path,DATASET_NAME, SET_NAME, MODEL, exp_name)\n",
    "analyze_results(\n",
    "    predictions, print_results=True, plot_confusion_matrix=True, subtitle=f\"{SET_NAME}| {MODEL}| {exp_name}\"\n",
    ");"
   ]
  },
  {
   "cell_type": "code",
   "execution_count": 9,
   "metadata": {},
   "outputs": [],
   "source": [
    "exp_name = \"only_names\"\n",
    "res_df = get_predictions_with_gt(run_path,DATASET_NAME, SET_NAME, model='gpt-4o-mini', exp_name=exp_name)"
   ]
  },
  {
   "cell_type": "code",
   "execution_count": 10,
   "metadata": {},
   "outputs": [
    {
     "data": {
      "text/html": [
       "<div>\n",
       "<style scoped>\n",
       "    .dataframe tbody tr th:only-of-type {\n",
       "        vertical-align: middle;\n",
       "    }\n",
       "\n",
       "    .dataframe tbody tr th {\n",
       "        vertical-align: top;\n",
       "    }\n",
       "\n",
       "    .dataframe thead th {\n",
       "        text-align: right;\n",
       "    }\n",
       "</style>\n",
       "<table border=\"1\" class=\"dataframe\">\n",
       "  <thead>\n",
       "    <tr style=\"text-align: right;\">\n",
       "      <th></th>\n",
       "      <th>Source</th>\n",
       "      <th>Target</th>\n",
       "      <th>Prediction</th>\n",
       "      <th>Confidence</th>\n",
       "      <th>Label</th>\n",
       "      <th>Type</th>\n",
       "    </tr>\n",
       "  </thead>\n",
       "  <tbody>\n",
       "    <tr>\n",
       "      <th>0</th>\n",
       "      <td>http://human.owl#NCI_C12262</td>\n",
       "      <td>http://mouse.owl#MA_0001615</td>\n",
       "      <td>True</td>\n",
       "      <td>0.999903</td>\n",
       "      <td>True</td>\n",
       "      <td>TP</td>\n",
       "    </tr>\n",
       "    <tr>\n",
       "      <th>1</th>\n",
       "      <td>http://human.owl#NCI_C33743</td>\n",
       "      <td>http://mouse.owl#MA_0002390</td>\n",
       "      <td>False</td>\n",
       "      <td>0.999876</td>\n",
       "      <td>True</td>\n",
       "      <td>FN</td>\n",
       "    </tr>\n",
       "    <tr>\n",
       "      <th>2</th>\n",
       "      <td>http://human.owl#NCI_C33075</td>\n",
       "      <td>http://mouse.owl#MA_0001249</td>\n",
       "      <td>True</td>\n",
       "      <td>0.999997</td>\n",
       "      <td>True</td>\n",
       "      <td>TP</td>\n",
       "    </tr>\n",
       "    <tr>\n",
       "      <th>3</th>\n",
       "      <td>http://human.owl#NCI_C32658</td>\n",
       "      <td>http://mouse.owl#MA_0002684</td>\n",
       "      <td>False</td>\n",
       "      <td>0.999447</td>\n",
       "      <td>True</td>\n",
       "      <td>FN</td>\n",
       "    </tr>\n",
       "    <tr>\n",
       "      <th>4</th>\n",
       "      <td>http://human.owl#NCI_C33748</td>\n",
       "      <td>http://mouse.owl#MA_0001221</td>\n",
       "      <td>True</td>\n",
       "      <td>0.999999</td>\n",
       "      <td>True</td>\n",
       "      <td>TP</td>\n",
       "    </tr>\n",
       "    <tr>\n",
       "      <th>5</th>\n",
       "      <td>http://human.owl#NCI_C53050</td>\n",
       "      <td>http://mouse.owl#MA_0002234</td>\n",
       "      <td>True</td>\n",
       "      <td>0.999998</td>\n",
       "      <td>False</td>\n",
       "      <td>FP</td>\n",
       "    </tr>\n",
       "    <tr>\n",
       "      <th>6</th>\n",
       "      <td>http://human.owl#NCI_C33791</td>\n",
       "      <td>http://mouse.owl#MA_0000777</td>\n",
       "      <td>True</td>\n",
       "      <td>0.999996</td>\n",
       "      <td>True</td>\n",
       "      <td>TP</td>\n",
       "    </tr>\n",
       "    <tr>\n",
       "      <th>7</th>\n",
       "      <td>http://human.owl#NCI_C12909</td>\n",
       "      <td>http://mouse.owl#MA_0002434</td>\n",
       "      <td>True</td>\n",
       "      <td>0.999999</td>\n",
       "      <td>True</td>\n",
       "      <td>TP</td>\n",
       "    </tr>\n",
       "    <tr>\n",
       "      <th>8</th>\n",
       "      <td>http://human.owl#NCI_C32497</td>\n",
       "      <td>http://mouse.owl#MA_0000451</td>\n",
       "      <td>True</td>\n",
       "      <td>0.999999</td>\n",
       "      <td>True</td>\n",
       "      <td>TP</td>\n",
       "    </tr>\n",
       "    <tr>\n",
       "      <th>9</th>\n",
       "      <td>http://human.owl#NCI_C33627</td>\n",
       "      <td>http://mouse.owl#MA_0001460</td>\n",
       "      <td>True</td>\n",
       "      <td>0.999664</td>\n",
       "      <td>False</td>\n",
       "      <td>FP</td>\n",
       "    </tr>\n",
       "  </tbody>\n",
       "</table>\n",
       "</div>"
      ],
      "text/plain": [
       "                        Source                       Target  Prediction  \\\n",
       "0  http://human.owl#NCI_C12262  http://mouse.owl#MA_0001615        True   \n",
       "1  http://human.owl#NCI_C33743  http://mouse.owl#MA_0002390       False   \n",
       "2  http://human.owl#NCI_C33075  http://mouse.owl#MA_0001249        True   \n",
       "3  http://human.owl#NCI_C32658  http://mouse.owl#MA_0002684       False   \n",
       "4  http://human.owl#NCI_C33748  http://mouse.owl#MA_0001221        True   \n",
       "5  http://human.owl#NCI_C53050  http://mouse.owl#MA_0002234        True   \n",
       "6  http://human.owl#NCI_C33791  http://mouse.owl#MA_0000777        True   \n",
       "7  http://human.owl#NCI_C12909  http://mouse.owl#MA_0002434        True   \n",
       "8  http://human.owl#NCI_C32497  http://mouse.owl#MA_0000451        True   \n",
       "9  http://human.owl#NCI_C33627  http://mouse.owl#MA_0001460        True   \n",
       "\n",
       "   Confidence  Label Type  \n",
       "0    0.999903   True   TP  \n",
       "1    0.999876   True   FN  \n",
       "2    0.999997   True   TP  \n",
       "3    0.999447   True   FN  \n",
       "4    0.999999   True   TP  \n",
       "5    0.999998  False   FP  \n",
       "6    0.999996   True   TP  \n",
       "7    0.999999   True   TP  \n",
       "8    0.999999   True   TP  \n",
       "9    0.999664  False   FP  "
      ]
     },
     "execution_count": 10,
     "metadata": {},
     "output_type": "execute_result"
    }
   ],
   "source": [
    "res_df"
   ]
  },
  {
   "cell_type": "code",
   "execution_count": 12,
   "metadata": {},
   "outputs": [
    {
     "name": "stdout",
     "output_type": "stream",
     "text": [
      "Processing pair 0 of type FN\n",
      "'Source Entry:\\n'\n",
      "{'all_names': {'Temporal Muscle', 'Temporal_Muscle'},\n",
      " 'children': set(),\n",
      " 'class': human.NCI_C33743,\n",
      " 'parents': {owl.Thing,\n",
      "             human.NCI_C12219,\n",
      "             human.NCI_C25769,\n",
      "             human.NCI_C32716,\n",
      "             human.NCI_C33147,\n",
      "             human.NCI_C32221,\n",
      "             human.NCI_C13056},\n",
      " 'preffered_names': {'Temporal_Muscle'},\n",
      " 'synonyms': {'Temporal Muscle'},\n",
      " 'uri': 'http://human.owl#NCI_C33743'}\n",
      "'Target Entry:\\n'\n",
      "{'all_names': {'temporalis'},\n",
      " 'children': set(),\n",
      " 'class': mouse.MA_0002390,\n",
      " 'parents': {mouse.MA_0000165, mouse.MA_0000015, owl.Thing},\n",
      " 'preffered_names': {'temporalis'},\n",
      " 'synonyms': {'MA_0002390'},\n",
      " 'uri': 'http://mouse.owl#MA_0002390'}\n",
      "Parent of Source Concept: [{'Head_and_Neck_Muscle'}, {'Anatomic_Structure_System_or_Substance'}, {'Musculoskeletal_System_Part'}, {'Thing'}, {'Muscle_of_the_Mastication'}, {'Body_Part'}, {'Muscle'}]\n",
      "Parent of Target Concept: [{'skeletal muscle'}, {'muscle'}, {'Thing'}]\n"
     ]
    }
   ],
   "source": [
    "print_results_entry(res_df, onto_tgt, onto_src, pair_type='FN', idx=0)"
   ]
  },
  {
   "cell_type": "code",
   "execution_count": null,
   "metadata": {},
   "outputs": [],
   "source": []
  }
 ],
 "metadata": {
  "kernelspec": {
   "display_name": "Python 3",
   "language": "python",
   "name": "python3"
  },
  "language_info": {
   "codemirror_mode": {
    "name": "ipython",
    "version": 3
   },
   "file_extension": ".py",
   "mimetype": "text/x-python",
   "name": "python",
   "nbconvert_exporter": "python",
   "pygments_lexer": "ipython3",
   "version": "3.10.12"
  }
 },
 "nbformat": 4,
 "nbformat_minor": 2
}
