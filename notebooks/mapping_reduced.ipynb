{
 "cells": [
  {
   "cell_type": "code",
   "execution_count": 2,
   "id": "3fc601bf",
   "metadata": {},
   "outputs": [
    {
     "name": "stdout",
     "output_type": "stream",
     "text": [
      "The autoreload extension is already loaded. To reload it, use:\n",
      "  %reload_ext autoreload\n"
     ]
    }
   ],
   "source": [
    "import logging\n",
    "import os\n",
    "from pathlib import Path\n",
    "\n",
    "import pandas as pd\n",
    "from tqdm import tqdm\n",
    "\n",
    "if Path.cwd().name == \"notebooks\":\n",
    "    os.chdir(\"..\")\n",
    "\n",
    "from src.evaluate import get_predictions_with_gt, save_analysis_results, store_run_metrics_df\n",
    "from src.formatting import format_storing_pathes_from_run_path\n",
    "\n",
    "%load_ext autoreload\n",
    "%autoreload 2"
   ]
  },
  {
   "cell_type": "code",
   "execution_count": 3,
   "id": "2a9987cc",
   "metadata": {},
   "outputs": [],
   "source": [
    "prompts = [\n",
    "    \"direct_entity\",\n",
    "    \"direct_entity_ontological\",\n",
    "    \"sequential_hierarchy\",\n",
    "    \"sequential_hierarchy_ontological\",\n",
    "    \"direct_entity_with_synonyms\",\n",
    "    \"sequential_hierarchy_with_synonyms\",\n",
    "]\n",
    "\n",
    "runs = [\n",
    "    (\"2025-05-11_00-15-12\", \"gemini-1.5-flash\", \"omim-ordo\", \"bioml-2024\"),\n",
    "    (\"2025-05-11_00-12-18\", \"gemini-1.5-flash\", \"ncit-doid\", \"bioml-2024\"),\n",
    "    (\"2025-05-11_00-06-56\", \"gemini-1.5-flash\", \"snomed-ncit.pharm\", \"bioml-2024\"),\n",
    "    (\"2025-05-11_00-02-13\", \"gemini-1.5-flash\", \"snomed-ncit.neoplas\", \"bioml-2024\"),\n",
    "    (\"2025-05-10_23-57-23\", \"gemini-1.5-flash\", \"snomed-fma.body\", \"bioml-2024\"),\n",
    "    (\"2025-05-10_23-56-32\", \"gemini-1.5-flash\", \"human-mouse\", \"anatomy\"),\n",
    "    (\"2025-05-10_23-41-12\", \"gemini-1.5-flash\", \"fma-snomed\", \"largebio\"),\n",
    "    (\"2025-05-10_23-38-28\", \"gemini-1.5-flash\", \"fma-nci\", \"largebio\"),\n",
    "    (\"2025-05-10_23-26-32\", \"gemini-1.5-flash\", \"snomed-nci\", \"largebio\"),\n",
    "    (\"2025-05-10_21-38-48\", \"gemini-2.5-flash-preview-04-17\", \"fma-snomed\", \"largebio\"),\n",
    "    (\"2025-05-10_21-26-58\", \"gemini-2.5-flash-preview-04-17\", \"fma-nci\", \"largebio\"),\n",
    "    (\"2025-05-10_20-48-45\", \"gemini-2.5-flash-preview-04-17\", \"snomed-nci\", \"largebio\"),\n",
    "    (\"2025-05-10_20-31-31\", \"gemini-2.0-flash\", \"omim-ordo\", \"bioml-2024\"),\n",
    "    (\"2025-05-10_20-26-50\", \"gemini-2.0-flash\", \"ncit-doid\", \"bioml-2024\"),\n",
    "    (\"2025-05-10_20-24-42\", \"gemini-2.5-flash-preview-04-17\", \"omim-ordo\", \"bioml-2024\"),\n",
    "    (\"2025-05-10_20-18-58\", \"gemini-2.0-flash\", \"snomed-ncit.pharm\", \"bioml-2024\"),\n",
    "    (\"2025-05-10_20-12-48\", \"gemini-2.5-flash-preview-04-17\", \"ncit-doid\", \"bioml-2024\"),\n",
    "    (\"2025-05-10_20-12-05\", \"gemini-2.0-flash\", \"snomed-ncit.neoplas\", \"bioml-2024\"),\n",
    "    (\"2025-05-10_20-04-10\", \"gemini-2.0-flash\", \"snomed-fma.body\", \"bioml-2024\"),\n",
    "    (\"2025-05-10_20-02-37\", \"gemini-2.0-flash\", \"human-mouse\", \"anatomy\"),\n",
    "    (\"2025-05-10_19-59-37\", \"gemini-2.5-flash-preview-04-17\", \"snomed-ncit.pharm\", \"bioml-2024\"),\n",
    "    (\"2025-05-10_19-58-03\", \"gemini-2.0-flash-lite\", \"omim-ordo\", \"bioml-2024\"),\n",
    "    (\"2025-05-10_19-54-15\", \"gemini-2.0-flash-lite\", \"ncit-doid\", \"bioml-2024\"),\n",
    "    (\"2025-05-10_19-47-56\", \"gemini-2.0-flash-lite\", \"snomed-ncit.pharm\", \"bioml-2024\"),\n",
    "    (\"2025-05-10_19-47-03\", \"gemini-2.5-flash-preview-04-17\", \"snomed-ncit.neoplas\", \"bioml-2024\"),\n",
    "    (\"2025-05-10_19-42-52\", \"gemini-2.0-flash-lite\", \"snomed-ncit.neoplas\", \"bioml-2024\"),\n",
    "    (\"2025-05-10_19-37-02\", \"gemini-2.0-flash-lite\", \"snomed-fma.body\", \"bioml-2024\"),\n",
    "    (\"2025-05-10_19-35-50\", \"gemini-2.0-flash-lite\", \"human-mouse\", \"anatomy\"),\n",
    "    (\"2025-05-10_19-32-25\", \"gemini-2.5-flash-preview-04-17\", \"snomed-fma.body\", \"bioml-2024\"),\n",
    "    (\"2025-05-10_19-29-40\", \"gemini-2.5-flash-preview-04-17\", \"human-mouse\", \"anatomy\"),\n",
    "    (\"2025-05-10_16-09-58\", \"gemini-2.0-flash\", \"fma-snomed\", \"largebio\"),\n",
    "    (\"2025-05-10_16-07-22\", \"gemini-2.0-flash-lite\", \"fma-snomed\", \"largebio\"),\n",
    "    (\"2025-05-10_16-05-15\", \"gemini-2.0-flash\", \"fma-nci\", \"largebio\"),\n",
    "    (\"2025-05-10_16-03-43\", \"gemini-2.0-flash-lite\", \"fma-nci\", \"largebio\"),\n",
    "    (\"2025-05-10_15-46-10\", \"gemini-2.0-flash-lite\", \"snomed-nci\", \"largebio\"),\n",
    "    (\"2025-05-10_15-44-53\", \"gemini-2.0-flash\", \"snomed-nci\", \"largebio\"),\n",
    "    (\"2025-03-28_10-15-04\", \"gpt-4o-mini\", \"fma-nci\", \"largebio\"),\n",
    "    (\"2025-03-19_23-32-20\", \"gpt-4o-mini\", \"omim-ordo\", \"bioml-2024\"),\n",
    "    (\"2025-03-19_22-17-52\", \"gpt-4o-mini\", \"ncit-doid\", \"bioml-2024\"),\n",
    "    (\"2025-03-19_19-48-41\", \"gpt-4o-mini\", \"human-mouse\", \"anatomy\"),\n",
    "    (\"2025-03-14_00-40-55\", \"gpt-4o-mini\", \"ncit-doid\", \"bioml-2024\"),\n",
    "    (\"2025-03-12_17-21-53\", \"gpt-4o-mini\", \"human-mouse\", \"anatomy\"),\n",
    "    (\"2025-03-12_14-43-32\", \"gpt-4o-mini\", \"omim-ordo\", \"bioml-2024\"),\n",
    "]"
   ]
  },
  {
   "cell_type": "code",
   "execution_count": null,
   "id": "4dbfe992",
   "metadata": {},
   "outputs": [
    {
     "name": "stderr",
     "output_type": "stream",
     "text": [
      "  0%|          | 0/43 [00:00<?, ?it/s]"
     ]
    },
    {
     "name": "stderr",
     "output_type": "stream",
     "text": [
      " 93%|█████████▎| 40/43 [00:06<00:00,  7.97it/s]"
     ]
    },
    {
     "name": "stdout",
     "output_type": "stream",
     "text": [
      "File not found for direct_entity in runs/2025-03-19_23-32-20\n",
      "File not found for direct_entity_ontological in runs/2025-03-19_23-32-20\n",
      "File not found for sequential_hierarchy in runs/2025-03-19_23-32-20\n",
      "File not found for sequential_hierarchy_ontological in runs/2025-03-19_23-32-20\n",
      "File not found for direct_entity in runs/2025-03-19_22-17-52\n",
      "File not found for direct_entity_ontological in runs/2025-03-19_22-17-52\n",
      "File not found for sequential_hierarchy in runs/2025-03-19_22-17-52\n",
      "File not found for sequential_hierarchy_ontological in runs/2025-03-19_22-17-52\n",
      "File not found for direct_entity in runs/2025-03-19_19-48-41\n",
      "File not found for direct_entity_ontological in runs/2025-03-19_19-48-41\n",
      "File not found for sequential_hierarchy in runs/2025-03-19_19-48-41\n",
      "File not found for sequential_hierarchy_ontological in runs/2025-03-19_19-48-41\n",
      "File not found for direct_entity_with_synonyms in runs/2025-03-14_00-40-55\n",
      "File not found for sequential_hierarchy_with_synonyms in runs/2025-03-14_00-40-55\n"
     ]
    },
    {
     "name": "stderr",
     "output_type": "stream",
     "text": [
      "100%|██████████| 43/43 [00:07<00:00,  5.96it/s]"
     ]
    },
    {
     "name": "stdout",
     "output_type": "stream",
     "text": [
      "File not found for direct_entity_with_synonyms in runs/2025-03-12_17-21-53\n",
      "File not found for sequential_hierarchy_with_synonyms in runs/2025-03-12_17-21-53\n",
      "File not found for direct_entity_with_synonyms in runs/2025-03-12_14-43-32\n",
      "File not found for sequential_hierarchy_with_synonyms in runs/2025-03-12_14-43-32\n"
     ]
    },
    {
     "name": "stderr",
     "output_type": "stream",
     "text": [
      "\n"
     ]
    }
   ],
   "source": [
    "metrics = pd.read_csv(\"./runs/all_runs_metrics.csv\")\n",
    "\n",
    "# for row in metrics.iterrows():\n",
    "for run, model, subset, dataset in tqdm(runs):\n",
    "    for exp in prompts:\n",
    "        try:\n",
    "            run_path = Path(\"runs\") / run\n",
    "            subset_path = (\n",
    "                Path(f\"data/{dataset}/{subset}\")\n",
    "                / f\"{dataset}-{subset}-oasystem_mappings_to_ask_oracle_user_llm_reduced.txt\"\n",
    "            )\n",
    "            prediction_path, stats_path, diagram_path = format_storing_pathes_from_run_path(\n",
    "                run_path, subset, model, exp\n",
    "            )\n",
    "            preds = pd.read_csv(prediction_path)\n",
    "            reduced = pd.read_csv(subset_path, sep=\"|\")\n",
    "\n",
    "            pairs = set(map(tuple, reduced.iloc[:, [0, 1]].values))\n",
    "            pairs.update({(t, s) for s, t in pairs})\n",
    "            filtered_preds = preds[preds.apply(lambda x: (x[\"Source\"], x[\"Target\"]) in pairs, axis=1)]  # noqa: B023\n",
    "\n",
    "            filtered_preds.to_csv(str(prediction_path).split(\".csv\")[0] + \"_reduced.csv\", index=False)\n",
    "\n",
    "        except Exception as e:  # noqa: BLE001\n",
    "            logging.info(f\"Error processing {run_path} | {subset} | {model} | {exp}: {e}\")\n",
    "            continue\n",
    "\n",
    "        prediction_path, stats_path, diagram_path = format_storing_pathes_from_run_path(\n",
    "            run_path, subset, model, exp, suffix=\"_reduced\"\n",
    "        )\n",
    "        predictions = get_predictions_with_gt(run_path, dataset, subset, model, exp, suffix=\"_reduced\")\n",
    "        save_analysis_results(\n",
    "            predictions,\n",
    "            print_results=False,\n",
    "            plot_confusion_matrix=False,\n",
    "            subtitle=f\"{subset}: {model} {exp} | \",\n",
    "            cm_save_path=diagram_path,\n",
    "            stats_path=stats_path,\n",
    "        )\n",
    "\n",
    "    store_run_metrics_df(prompts, run_path, dataset, subset, model, suffix=\"_reduced\")"
   ]
  },
  {
   "cell_type": "code",
   "execution_count": null,
   "id": "fde8c689",
   "metadata": {},
   "outputs": [],
   "source": []
  }
 ],
 "metadata": {
  "kernelspec": {
   "display_name": "Python 3",
   "language": "python",
   "name": "python3"
  },
  "language_info": {
   "codemirror_mode": {
    "name": "ipython",
    "version": 3
   },
   "file_extension": ".py",
   "mimetype": "text/x-python",
   "name": "python",
   "nbconvert_exporter": "python",
   "pygments_lexer": "ipython3",
   "version": "3.10.12"
  }
 },
 "nbformat": 4,
 "nbformat_minor": 5
}
