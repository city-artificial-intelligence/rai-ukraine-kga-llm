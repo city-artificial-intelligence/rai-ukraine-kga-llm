{
 "cells": [
  {
   "cell_type": "markdown",
   "metadata": {},
   "source": [
    "# EDA of parents in anatomy dataset"
   ]
  },
  {
   "cell_type": "code",
   "execution_count": null,
   "metadata": {},
   "outputs": [],
   "source": [
    "# ruff: noqa: T201, T203\n",
    "from __future__ import annotations\n",
    "\n",
    "import os\n",
    "from pathlib import Path\n",
    "\n",
    "if Path.cwd().name == \"notebooks\":\n",
    "    os.chdir(\"..\")\n",
    "\n",
    "import logging\n",
    "\n",
    "import pandas as pd\n",
    "from dotenv import load_dotenv\n",
    "\n",
    "from config.config import DATA_DIR\n",
    "from src.formatting import format_oracle_pairs_filepath\n",
    "from src.onto_access import OntologyAccess\n",
    "from src.onto_object import OntologyEntryAttr\n",
    "from src.utils import read_oracle_pairs\n",
    "\n",
    "logging.getLogger().setLevel(logging.WARNING)\n",
    "load_dotenv()\n",
    "\n",
    "%load_ext autoreload\n",
    "%autoreload 2"
   ]
  },
  {
   "cell_type": "code",
   "execution_count": 4,
   "metadata": {},
   "outputs": [
    {
     "name": "stderr",
     "output_type": "stream",
     "text": [
      "* Owlready2 * Creating new ontology human <data/anatomy/human-mouse/human.owl#>.\n",
      "* Owlready2 * ADD TRIPLE data/anatomy/human-mouse/human.owl http://www.w3.org/1999/02/22-rdf-syntax-ns#type http://www.w3.org/2002/07/owl#Ontology\n",
      "* Owlready2 *     ...loading ontology human from data/anatomy/human-mouse/human.owl...\n"
     ]
    },
    {
     "name": "stdout",
     "output_type": "stream",
     "text": [
      "* Owlready2 * Reseting property oboInOwl.ObsoleteProperty: new triples are now available.\n",
      "* Owlready2 * Reseting property oboInOwl.hasRelatedSynonym: new triples are now available.\n",
      "* Owlready2 * Reseting property oboInOwl.hasDefaultNamespace: new triples are now available.\n",
      "* Owlready2 * Reseting property oboInOwl.savedBy: new triples are now available.\n",
      "* Owlready2 * Reseting property oboInOwl.hasDate: new triples are now available.\n"
     ]
    },
    {
     "name": "stderr",
     "output_type": "stream",
     "text": [
      "* Owlready2 *     ...8 properties found: ObsoleteProperty, UNDEFINED_part_of, label, hasRelatedSynonym, hasDefaultNamespace, savedBy, hasDate, hasDefinition\n"
     ]
    }
   ],
   "source": [
    "DATASET_NAME = \"anatomy\"\n",
    "SET_NAME = \"human-mouse\"\n",
    "SOURCE_ONTOLOGY = \"mouse\"\n",
    "TARGET_ONTOLOGY = \"human\"\n",
    "\n",
    "src_onto_path = DATA_DIR / DATASET_NAME / SET_NAME / f\"{SOURCE_ONTOLOGY}.owl\"\n",
    "tgt_onto_path = DATA_DIR / DATASET_NAME / SET_NAME / f\"{TARGET_ONTOLOGY}.owl\"\n",
    "\n",
    "onto_src = OntologyAccess(src_onto_path, annotate_on_init=True)\n",
    "onto_tgt = OntologyAccess(tgt_onto_path, annotate_on_init=True)"
   ]
  },
  {
   "cell_type": "code",
   "execution_count": 5,
   "metadata": {},
   "outputs": [],
   "source": [
    "candidate_pairs_lines = pd.DataFrame(\n",
    "    read_oracle_pairs(format_oracle_pairs_filepath(DATASET_NAME, SET_NAME)), columns=[\"source\", \"target\"]\n",
    ")"
   ]
  },
  {
   "cell_type": "code",
   "execution_count": 6,
   "metadata": {},
   "outputs": [
    {
     "data": {
      "text/html": [
       "<div>\n",
       "<style scoped>\n",
       "    .dataframe tbody tr th:only-of-type {\n",
       "        vertical-align: middle;\n",
       "    }\n",
       "\n",
       "    .dataframe tbody tr th {\n",
       "        vertical-align: top;\n",
       "    }\n",
       "\n",
       "    .dataframe thead th {\n",
       "        text-align: right;\n",
       "    }\n",
       "</style>\n",
       "<table border=\"1\" class=\"dataframe\">\n",
       "  <thead>\n",
       "    <tr style=\"text-align: right;\">\n",
       "      <th></th>\n",
       "      <th>source</th>\n",
       "      <th>target</th>\n",
       "    </tr>\n",
       "  </thead>\n",
       "  <tbody>\n",
       "    <tr>\n",
       "      <th>0</th>\n",
       "      <td>http://human.owl#NCI_C32658</td>\n",
       "      <td>http://mouse.owl#MA_0002684</td>\n",
       "    </tr>\n",
       "    <tr>\n",
       "      <th>1</th>\n",
       "      <td>http://human.owl#NCI_C33075</td>\n",
       "      <td>http://mouse.owl#MA_0001249</td>\n",
       "    </tr>\n",
       "    <tr>\n",
       "      <th>2</th>\n",
       "      <td>http://human.owl#NCI_C33748</td>\n",
       "      <td>http://mouse.owl#MA_0001221</td>\n",
       "    </tr>\n",
       "    <tr>\n",
       "      <th>3</th>\n",
       "      <td>http://human.owl#NCI_C12262</td>\n",
       "      <td>http://mouse.owl#MA_0001615</td>\n",
       "    </tr>\n",
       "    <tr>\n",
       "      <th>4</th>\n",
       "      <td>http://human.owl#NCI_C53050</td>\n",
       "      <td>http://mouse.owl#MA_0002234</td>\n",
       "    </tr>\n",
       "  </tbody>\n",
       "</table>\n",
       "</div>"
      ],
      "text/plain": [
       "                        source                       target\n",
       "0  http://human.owl#NCI_C32658  http://mouse.owl#MA_0002684\n",
       "1  http://human.owl#NCI_C33075  http://mouse.owl#MA_0001249\n",
       "2  http://human.owl#NCI_C33748  http://mouse.owl#MA_0001221\n",
       "3  http://human.owl#NCI_C12262  http://mouse.owl#MA_0001615\n",
       "4  http://human.owl#NCI_C53050  http://mouse.owl#MA_0002234"
      ]
     },
     "execution_count": 6,
     "metadata": {},
     "output_type": "execute_result"
    }
   ],
   "source": [
    "candidate_pairs_lines.head()"
   ]
  },
  {
   "cell_type": "code",
   "execution_count": 7,
   "metadata": {},
   "outputs": [
    {
     "name": "stdout",
     "output_type": "stream",
     "text": [
      "# Total elements source: 398\n",
      "# Duplicates source: 25\n",
      "# Unique elements source: 373\n",
      "# Total elements target: 398\n",
      "# Duplicates target: 20\n",
      "# Unique elements target: 378\n"
     ]
    }
   ],
   "source": [
    "for col in candidate_pairs_lines.columns:\n",
    "    print(f\"# Total elements {col}: {candidate_pairs_lines[col].shape[0]}\")\n",
    "    print(f\"# Duplicates {col}: {candidate_pairs_lines[col].duplicated().sum()}\")\n",
    "    print(f\"# Unique elements {col}: {candidate_pairs_lines[col].nunique()}\")"
   ]
  },
  {
   "cell_type": "markdown",
   "metadata": {},
   "source": [
    "### Restructure source - target ontologies"
   ]
  },
  {
   "cell_type": "code",
   "execution_count": null,
   "metadata": {},
   "outputs": [],
   "source": [
    "def get_df(rows: list[str], onto: OntologyAccess) -> pd.DataFrame:\n",
    "    data = [\n",
    "        {\n",
    "            \"entry\": row,\n",
    "            \"all_entity_names\": OntologyEntryAttr(row, onto).get_all_entity_names(),\n",
    "            \"parents_preferred_names\": OntologyEntryAttr(row, onto).get_parents_preferred_names(),\n",
    "            \"direct_parents\": OntologyEntryAttr(row, onto).get_direct_parents(),\n",
    "        }\n",
    "        for row in rows\n",
    "    ]\n",
    "    data_df = pd.DataFrame(data)\n",
    "    data_df[\"parents_preferred_names\"] = data_df[\"parents_preferred_names\"].apply(lambda x: list(map(str, x)))\n",
    "    data_df[\"direct_parents\"] = data_df[\"direct_parents\"].astype(str)\n",
    "    return data_df\n",
    "\n",
    "\n",
    "tgt_df = get_df(candidate_pairs_lines.iloc[:, 0], onto_tgt)\n",
    "src_df = get_df(candidate_pairs_lines.iloc[:, 1], onto_src)"
   ]
  },
  {
   "cell_type": "code",
   "execution_count": 86,
   "metadata": {},
   "outputs": [
    {
     "data": {
      "text/html": [
       "<div>\n",
       "<style scoped>\n",
       "    .dataframe tbody tr th:only-of-type {\n",
       "        vertical-align: middle;\n",
       "    }\n",
       "\n",
       "    .dataframe tbody tr th {\n",
       "        vertical-align: top;\n",
       "    }\n",
       "\n",
       "    .dataframe thead th {\n",
       "        text-align: right;\n",
       "    }\n",
       "</style>\n",
       "<table border=\"1\" class=\"dataframe\">\n",
       "  <thead>\n",
       "    <tr style=\"text-align: right;\">\n",
       "      <th></th>\n",
       "      <th>entry</th>\n",
       "      <th>all_entity_names</th>\n",
       "      <th>parents_preferred_names</th>\n",
       "      <th>direct_parents</th>\n",
       "    </tr>\n",
       "  </thead>\n",
       "  <tbody>\n",
       "    <tr>\n",
       "      <th>0</th>\n",
       "      <td>http://mouse.owl#MA_0002684</td>\n",
       "      <td>{stomach muscularis mucosa}</td>\n",
       "      <td>[{'Thing'}]</td>\n",
       "      <td>{owl.Thing}</td>\n",
       "    </tr>\n",
       "    <tr>\n",
       "      <th>1</th>\n",
       "      <td>http://mouse.owl#MA_0001249</td>\n",
       "      <td>{palpebral gland, tarsal gland, meibomian gland}</td>\n",
       "      <td>[{'eye gland'}, {'Thing'}]</td>\n",
       "      <td>{mouse.MA_0000267}</td>\n",
       "    </tr>\n",
       "    <tr>\n",
       "      <th>2</th>\n",
       "      <td>http://mouse.owl#MA_0001221</td>\n",
       "      <td>{tensor tympani}</td>\n",
       "      <td>[{'tympanic cavity muscle'}, {'Thing'}]</td>\n",
       "      <td>{mouse.MA_0000256}</td>\n",
       "    </tr>\n",
       "    <tr>\n",
       "      <th>3</th>\n",
       "      <td>http://mouse.owl#MA_0001615</td>\n",
       "      <td>{stomach greater curvature}</td>\n",
       "      <td>[{'Thing'}, {'stomach region'}]</td>\n",
       "      <td>{mouse.MA_0002561}</td>\n",
       "    </tr>\n",
       "    <tr>\n",
       "      <th>4</th>\n",
       "      <td>http://mouse.owl#MA_0002234</td>\n",
       "      <td>{testicular vein}</td>\n",
       "      <td>[{'vein'}, {'venous blood vessel'}, {'blood ve...</td>\n",
       "      <td>{mouse.MA_0000067}</td>\n",
       "    </tr>\n",
       "  </tbody>\n",
       "</table>\n",
       "</div>"
      ],
      "text/plain": [
       "                         entry  \\\n",
       "0  http://mouse.owl#MA_0002684   \n",
       "1  http://mouse.owl#MA_0001249   \n",
       "2  http://mouse.owl#MA_0001221   \n",
       "3  http://mouse.owl#MA_0001615   \n",
       "4  http://mouse.owl#MA_0002234   \n",
       "\n",
       "                                   all_entity_names  \\\n",
       "0                       {stomach muscularis mucosa}   \n",
       "1  {palpebral gland, tarsal gland, meibomian gland}   \n",
       "2                                  {tensor tympani}   \n",
       "3                       {stomach greater curvature}   \n",
       "4                                 {testicular vein}   \n",
       "\n",
       "                             parents_preferred_names      direct_parents  \n",
       "0                                        [{'Thing'}]         {owl.Thing}  \n",
       "1                         [{'eye gland'}, {'Thing'}]  {mouse.MA_0000267}  \n",
       "2            [{'tympanic cavity muscle'}, {'Thing'}]  {mouse.MA_0000256}  \n",
       "3                    [{'Thing'}, {'stomach region'}]  {mouse.MA_0002561}  \n",
       "4  [{'vein'}, {'venous blood vessel'}, {'blood ve...  {mouse.MA_0000067}  "
      ]
     },
     "execution_count": 86,
     "metadata": {},
     "output_type": "execute_result"
    }
   ],
   "source": [
    "src_df.head()"
   ]
  },
  {
   "cell_type": "code",
   "execution_count": 83,
   "metadata": {},
   "outputs": [
    {
     "data": {
      "text/html": [
       "<div>\n",
       "<style scoped>\n",
       "    .dataframe tbody tr th:only-of-type {\n",
       "        vertical-align: middle;\n",
       "    }\n",
       "\n",
       "    .dataframe tbody tr th {\n",
       "        vertical-align: top;\n",
       "    }\n",
       "\n",
       "    .dataframe thead th {\n",
       "        text-align: right;\n",
       "    }\n",
       "</style>\n",
       "<table border=\"1\" class=\"dataframe\">\n",
       "  <thead>\n",
       "    <tr style=\"text-align: right;\">\n",
       "      <th></th>\n",
       "      <th>entry</th>\n",
       "      <th>all_entity_names</th>\n",
       "      <th>parents_preferred_names</th>\n",
       "      <th>direct_parents</th>\n",
       "    </tr>\n",
       "  </thead>\n",
       "  <tbody>\n",
       "    <tr>\n",
       "      <th>0</th>\n",
       "      <td>http://human.owl#NCI_C32658</td>\n",
       "      <td>{Gastric Muscularis Mucosa, Gastric_Muscularis...</td>\n",
       "      <td>{'Mucosa'}, {'Thing'}, {'Anatomic_Structure_Sy...</td>\n",
       "      <td>{human.NCI_C33149, human.NCI_C32656}</td>\n",
       "    </tr>\n",
       "    <tr>\n",
       "      <th>1</th>\n",
       "      <td>http://human.owl#NCI_C33075</td>\n",
       "      <td>{Meibomian Gland, Meibomian_Gland}</td>\n",
       "      <td>{'Sebaceous_Gland'}, {'Thing'}, {'Anatomic_Str...</td>\n",
       "      <td>{human.NCI_C33519}</td>\n",
       "    </tr>\n",
       "    <tr>\n",
       "      <th>2</th>\n",
       "      <td>http://human.owl#NCI_C33748</td>\n",
       "      <td>{Tensor Tympani, Tensor_Tympani}</td>\n",
       "      <td>{'Body_Part'}, {'Thing'}, {'Anatomic_Structure...</td>\n",
       "      <td>{human.NCI_C33148}</td>\n",
       "    </tr>\n",
       "    <tr>\n",
       "      <th>3</th>\n",
       "      <td>http://human.owl#NCI_C12262</td>\n",
       "      <td>{Greater Curvature, Greater Curvature of the S...</td>\n",
       "      <td>{'Anatomic_Structure_System_or_Substance'}, {'...</td>\n",
       "      <td>{human.NCI_C25763}</td>\n",
       "    </tr>\n",
       "    <tr>\n",
       "      <th>4</th>\n",
       "      <td>http://human.owl#NCI_C53050</td>\n",
       "      <td>{Testicular Vein, Spermatic Vein, Internal Spe...</td>\n",
       "      <td>{'Body_Part'}, {'Thing'}, {'Anatomic_Structure...</td>\n",
       "      <td>{human.NCI_C12814}</td>\n",
       "    </tr>\n",
       "  </tbody>\n",
       "</table>\n",
       "</div>"
      ],
      "text/plain": [
       "                         entry  \\\n",
       "0  http://human.owl#NCI_C32658   \n",
       "1  http://human.owl#NCI_C33075   \n",
       "2  http://human.owl#NCI_C33748   \n",
       "3  http://human.owl#NCI_C12262   \n",
       "4  http://human.owl#NCI_C53050   \n",
       "\n",
       "                                    all_entity_names  \\\n",
       "0  {Gastric Muscularis Mucosa, Gastric_Muscularis...   \n",
       "1                 {Meibomian Gland, Meibomian_Gland}   \n",
       "2                   {Tensor Tympani, Tensor_Tympani}   \n",
       "3  {Greater Curvature, Greater Curvature of the S...   \n",
       "4  {Testicular Vein, Spermatic Vein, Internal Spe...   \n",
       "\n",
       "                             parents_preferred_names  \\\n",
       "0  {'Mucosa'}, {'Thing'}, {'Anatomic_Structure_Sy...   \n",
       "1  {'Sebaceous_Gland'}, {'Thing'}, {'Anatomic_Str...   \n",
       "2  {'Body_Part'}, {'Thing'}, {'Anatomic_Structure...   \n",
       "3  {'Anatomic_Structure_System_or_Substance'}, {'...   \n",
       "4  {'Body_Part'}, {'Thing'}, {'Anatomic_Structure...   \n",
       "\n",
       "                         direct_parents  \n",
       "0  {human.NCI_C33149, human.NCI_C32656}  \n",
       "1                    {human.NCI_C33519}  \n",
       "2                    {human.NCI_C33148}  \n",
       "3                    {human.NCI_C25763}  \n",
       "4                    {human.NCI_C12814}  "
      ]
     },
     "execution_count": 83,
     "metadata": {},
     "output_type": "execute_result"
    }
   ],
   "source": [
    "tgt_df.head()"
   ]
  },
  {
   "cell_type": "markdown",
   "metadata": {},
   "source": [
    "<b><i> Example ontology</i></b>:\n",
    "\n",
    "<b> Number </b>: 315\n",
    "\n",
    "<b> Column name </b>: http://mouse.owl#MA_0000293\n",
    "\n",
    "<b> All entity names </b>: {'pelvic girdle bone'}\n",
    "\n",
    "<b> Parents preffered names </b>: \"[{'pelvis bone'}, {'trunk bone'}, {'bone'}, {'abdomen/pelvis/perineum bone'}, {'girdle bone'}, {owl.Thing}]\"\n",
    "\n",
    "<b> Direct parents </b>: \"{mouse.MA_0000291, mouse.MA_0000532}\""
   ]
  },
  {
   "cell_type": "code",
   "execution_count": 14,
   "metadata": {},
   "outputs": [
    {
     "data": {
      "text/plain": [
       "(mouse.MA_0000293, mouse.MA_0000532, mouse.MA_0000293)"
      ]
     },
     "execution_count": 14,
     "metadata": {},
     "output_type": "execute_result"
    }
   ],
   "source": [
    "mouse_example = OntologyEntryAttr(\"http://mouse.owl#MA_0000293\", onto_src)\n",
    "\n",
    "parent = next(iter(mouse_example.get_direct_parents()))\n",
    "child = next(iter(parent.get_direct_children()))\n",
    "\n",
    "mouse_example, parent, child"
   ]
  }
 ],
 "metadata": {
  "kernelspec": {
   "display_name": "Python 3",
   "language": "python",
   "name": "python3"
  },
  "language_info": {
   "codemirror_mode": {
    "name": "ipython",
    "version": 3
   },
   "file_extension": ".py",
   "mimetype": "text/x-python",
   "name": "python",
   "nbconvert_exporter": "python",
   "pygments_lexer": "ipython3",
   "version": "3.10.12"
  }
 },
 "nbformat": 4,
 "nbformat_minor": 2
}
