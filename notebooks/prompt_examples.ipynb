{
 "cells": [
  {
   "cell_type": "markdown",
   "metadata": {},
   "source": [
    "# All prompt examples"
   ]
  },
  {
   "cell_type": "code",
   "execution_count": null,
   "metadata": {},
   "outputs": [
    {
     "name": "stdout",
     "output_type": "stream",
     "text": [
      "The autoreload extension is already loaded. To reload it, use:\n",
      "  %reload_ext autoreload\n"
     ]
    }
   ],
   "source": [
    "# ruff: noqa: T201, T203\n",
    "from __future__ import annotations\n",
    "\n",
    "import os\n",
    "from pathlib import Path\n",
    "\n",
    "if Path.cwd().name == \"notebooks\":\n",
    "    os.chdir(\"..\")\n",
    "\n",
    "import logging\n",
    "\n",
    "from dotenv import load_dotenv\n",
    "\n",
    "from src.formatting import format_oracle_pairs_filepath, format_subsets_ontologies_paths\n",
    "from src.onto_access import OntologyAccess\n",
    "from src.onto_object import OntologyEntryAttr\n",
    "from src.prompts.prompt_utils import format_hierarchy\n",
    "from src.prompts.prompts import (\n",
    "    prompt_direct_entity,\n",
    "    prompt_direct_entity_ontological,\n",
    "    prompt_direct_entity_with_synonyms,\n",
    "    prompt_sequential_hierarchy,\n",
    "    prompt_sequential_hierarchy_ontological,\n",
    "    prompt_sequential_hierarchy_with_synonyms,\n",
    ")\n",
    "from src.utils import read_oracle_pairs\n",
    "\n",
    "logging.getLogger().setLevel(logging.WARNING)\n",
    "load_dotenv()\n",
    "\n",
    "%load_ext autoreload\n",
    "%autoreload 2"
   ]
  },
  {
   "cell_type": "code",
   "execution_count": null,
   "metadata": {},
   "outputs": [
    {
     "name": "stderr",
     "output_type": "stream",
     "text": [
      "* Owlready2 * Creating new ontology human <data/anatomy/human-mouse/human.owl#>.\n",
      "* Owlready2 * ADD TRIPLE data/anatomy/human-mouse/human.owl http://www.w3.org/1999/02/22-rdf-syntax-ns#type http://www.w3.org/2002/07/owl#Ontology\n",
      "* Owlready2 *     ...loading ontology human from data/anatomy/human-mouse/human.owl...\n",
      "* Owlready2 *     ...8 properties found: ObsoleteProperty, UNDEFINED_part_of, label, hasRelatedSynonym, hasDefaultNamespace, savedBy, hasDate, hasDefinition\n"
     ]
    },
    {
     "name": "stdout",
     "output_type": "stream",
     "text": [
      "* Owlready2 * Reseting property oboInOwl.ObsoleteProperty: new triples are now available.\n",
      "* Owlready2 * Reseting property oboInOwl.hasRelatedSynonym: new triples are now available.\n",
      "* Owlready2 * Reseting property oboInOwl.hasDefaultNamespace: new triples are now available.\n",
      "* Owlready2 * Reseting property oboInOwl.savedBy: new triples are now available.\n",
      "* Owlready2 * Reseting property oboInOwl.hasDate: new triples are now available.\n"
     ]
    }
   ],
   "source": [
    "DATASET_NAME, SET_NAME = \"anatomy\", \"human-mouse\"\n",
    "\n",
    "src_onto_path, tgt_onto_path = format_subsets_ontologies_paths(DATASET_NAME, SET_NAME)\n",
    "\n",
    "onto_src = OntologyAccess(src_onto_path, annotate_on_init=True)\n",
    "onto_tgt = OntologyAccess(tgt_onto_path, annotate_on_init=True)"
   ]
  },
  {
   "cell_type": "code",
   "execution_count": 91,
   "metadata": {},
   "outputs": [],
   "source": [
    "src_entity, tgt_entity = read_oracle_pairs(format_oracle_pairs_filepath(DATASET_NAME, SET_NAME))[41] # consider testing: 34, 39, 41\n",
    "try:\n",
    "    src_entity, tgt_entity = OntologyEntryAttr(src_entity, onto_src), OntologyEntryAttr(tgt_entity, onto_tgt)\n",
    "except AssertionError:\n",
    "    src_entity, tgt_entity = OntologyEntryAttr(tgt_entity, onto_src), OntologyEntryAttr(src_entity, onto_tgt)"
   ]
  },
  {
   "cell_type": "markdown",
   "metadata": {},
   "source": [
    "# New prompts instances"
   ]
  },
  {
   "cell_type": "markdown",
   "metadata": {},
   "source": [
    "### Ontological prompts"
   ]
  },
  {
   "cell_type": "code",
   "execution_count": 102,
   "metadata": {},
   "outputs": [
    {
     "name": "stdout",
     "output_type": "stream",
     "text": [
      "Analyze the following entities, each originating from a distinct biomedical ontology.\n",
      "Your task is to assess whether they represent the **same ontological concept**, considering both their semantic meaning and hierarchical position.\n",
      "\n",
      "1. Source entity: \"cuboid\"\n",
      "\t- Direct ontological parent: tarsal bone\n",
      "\n",
      "2. Target entity: \"Cuboid_Bone\"\n",
      "\t- Direct ontological parent: Tarsal_Bone\n",
      "\n",
      "Are these entities **ontologically equivalent** within their respective ontologies? Respond with \"True\" or \"False\".\n"
     ]
    }
   ],
   "source": [
    "print(prompt_direct_entity_ontological(src_entity, tgt_entity))"
   ]
  },
  {
   "cell_type": "code",
   "execution_count": 103,
   "metadata": {},
   "outputs": [
    {
     "name": "stdout",
     "output_type": "stream",
     "text": [
      "Analyze the following entities, each originating from a distinct biomedical ontology.\n",
      "Each is represented by its **ontological lineage**, capturing its hierarchical placement from the most general to the most specific level.\n",
      "\n",
      "1. Source entity ontological lineage:\n",
      "\tLevel 0: cuboid\n",
      "\tLevel 1: tarsal bone\n",
      "\tLevel 2: carpal/tarsal bone, foot bone\n",
      "\n",
      "2. Target entity ontological lineage:\n",
      "\tLevel 0: Cuboid_Bone\n",
      "\tLevel 1: Tarsal_Bone\n",
      "\tLevel 2: Bone_of_the_Lower_Extremity\n",
      "\n",
      "Based on their **ontological positioning, hierarchical relationships, and semantic alignment**, do these entities represent the **same ontological concept**? Respond with \"True\" or \"False\".\n"
     ]
    }
   ],
   "source": [
    "print(prompt_sequential_hierarchy_ontological(src_entity, tgt_entity))"
   ]
  },
  {
   "cell_type": "markdown",
   "metadata": {},
   "source": [
    "### Natural language prompts"
   ]
  },
  {
   "cell_type": "code",
   "execution_count": 100,
   "metadata": {},
   "outputs": [
    {
     "name": "stdout",
     "output_type": "stream",
     "text": [
      "We have two entities from different biomedical ontologies.\n",
      "The first one is \"cuboid\", which belongs to the broader category \"tarsal bone\"\n",
      "The second one is \"Cuboid_Bone\", which belongs to the broader category \"Tarsal_Bone\"\n",
      "\n",
      "Do they mean the same thing? Respond with \"True\" or \"False\".\n"
     ]
    }
   ],
   "source": [
    "print(prompt_direct_entity(src_entity, tgt_entity))"
   ]
  },
  {
   "cell_type": "code",
   "execution_count": 101,
   "metadata": {},
   "outputs": [
    {
     "name": "stdout",
     "output_type": "stream",
     "text": [
      "We have two entities from different biomedical ontologies.\n",
      "The first one is \"cuboid\", which belongs to the broader category \"tarsal bone\", under the even broader category \"carpal/tarsal bone, foot bone\"\n",
      "The second one is \"Cuboid_Bone\", which belongs to the broader category \"Tarsal_Bone\", under the even broader category \"Bone_of_the_Lower_Extremity\"\n",
      "\n",
      "Do they mean the same thing? Respond with \"True\" or \"False\".\n"
     ]
    }
   ],
   "source": [
    "print(prompt_sequential_hierarchy(src_entity, tgt_entity))"
   ]
  },
  {
   "cell_type": "markdown",
   "metadata": {},
   "source": [
    "### Natural language prompts with synonyms"
   ]
  },
  {
   "cell_type": "code",
   "execution_count": 98,
   "metadata": {},
   "outputs": [
    {
     "name": "stdout",
     "output_type": "stream",
     "text": [
      "We have two entities from different biomedical ontologies.\n",
      "The first one is \"cuboid\", also known as \"foot distal carpal bone 4 and 5\", which falls under the category \"tarsal bone\".\n",
      "The second one is \"Cuboid_Bone\", also known as \"Cuboid Bone\", which falls under the category \"Tarsal_Bone\".\n",
      "\n",
      "Do they mean the same thing? Respond with \"True\" or \"False\".\n"
     ]
    }
   ],
   "source": [
    "print(prompt_direct_entity_with_synonyms(src_entity, tgt_entity))"
   ]
  },
  {
   "cell_type": "code",
   "execution_count": 99,
   "metadata": {},
   "outputs": [
    {
     "name": "stdout",
     "output_type": "stream",
     "text": [
      "We have two entities from different biomedical ontologies.\n",
      "The first one is \"cuboid\", also known as \"foot distal carpal bone 4 and 5\", belongs to broader category \"tarsal bone\", under the even broader category \"carpal/tarsal bone, foot bone\".\n",
      "The second one is \"Cuboid_Bone\", also known as \"Cuboid Bone\", belongs to broader category \"Tarsal_Bone\" (also known as \"Tarsal Bones\", \"Tarsal Bone\"), under the even broader category \"Bone_of_the_Lower_Extremity\" (also known as \"Bone of the Lower Extremity\", \"Bones of Lower Extremity\", \"Bone of Lower Extremity\").\n",
      "\n",
      "Do they mean the same thing? Respond with \"True\" or \"False\".\n"
     ]
    }
   ],
   "source": [
    "print(prompt_sequential_hierarchy_with_synonyms(src_entity, tgt_entity))"
   ]
  },
  {
   "cell_type": "markdown",
   "metadata": {},
   "source": [
    "### Get full info"
   ]
  },
  {
   "cell_type": "code",
   "execution_count": 71,
   "metadata": {},
   "outputs": [
    {
     "name": "stdout",
     "output_type": "stream",
     "text": [
      "\tLevel 0: cuboid\n",
      "\tLevel 1: tarsal bone\n",
      "\tLevel 2: carpal/tarsal bone, foot bone\n",
      "\tLevel 3: hindlimb bone\n"
     ]
    }
   ],
   "source": [
    "print(format_hierarchy(src_entity.get_parents_by_levels(max_level=3), False, True))"
   ]
  },
  {
   "cell_type": "code",
   "execution_count": 72,
   "metadata": {},
   "outputs": [
    {
     "name": "stdout",
     "output_type": "stream",
     "text": [
      "\tLevel 0: Cuboid_Bone\n",
      "\tLevel 1: Tarsal_Bone\n",
      "\tLevel 2: Bone_of_the_Lower_Extremity\n",
      "\tLevel 3: Bone_of_the_Extremity\n"
     ]
    }
   ],
   "source": [
    "print(format_hierarchy(tgt_entity.get_parents_by_levels(max_level=3), False, True))"
   ]
  },
  {
   "cell_type": "code",
   "execution_count": 73,
   "metadata": {},
   "outputs": [
    {
     "name": "stdout",
     "output_type": "stream",
     "text": [
      "{'class': mouse.MA_0001355, 'uri': 'http://mouse.owl#MA_0001355', 'preffered_names': {'cuboid'}, 'synonyms': {'foot distal carpal bone 4 and 5'}, 'all_names': {'cuboid', 'foot distal carpal bone 4 and 5'}, 'parents': {mouse.MA_0001459, owl.Thing, mouse.MA_0000297, mouse.MA_0000688, mouse.MA_0000660, mouse.MA_0000295, mouse.MA_0000643}, 'children': set()}\n",
      "{'cuboid', 'foot distal carpal bone 4 and 5'}\n",
      "[{'Thing'}, {'tarsal bone'}, {'limb bone'}, {'hindlimb bone'}, {'foot bone'}, {'carpal/tarsal bone'}, {'bone'}]\n",
      "[]\n",
      "{'foot distal carpal bone 4 and 5'}\n",
      "{mouse.MA_0000297}\n",
      "{mouse.MA_0001349, mouse.MA_0001354, mouse.MA_0001352, mouse.MA_0001350, mouse.MA_0001355, mouse.MA_0001348, mouse.MA_0001353, mouse.MA_0001351}\n"
     ]
    }
   ],
   "source": [
    "print(src_entity)\n",
    "print(src_entity.get_all_entity_names())\n",
    "print(src_entity.get_parents_preferred_names())\n",
    "print(src_entity.get_children_preferred_names())\n",
    "print(src_entity.get_synonyms())\n",
    "print(src_entity.get_direct_parents())\n",
    "print(src_entity.get_direct_parents().pop().get_direct_children())"
   ]
  },
  {
   "cell_type": "code",
   "execution_count": 74,
   "metadata": {},
   "outputs": [
    {
     "name": "stdout",
     "output_type": "stream",
     "text": [
      "{'class': human.NCI_C32414, 'uri': 'http://human.owl#NCI_C32414', 'preffered_names': {'Cuboid_Bone'}, 'synonyms': {'Cuboid Bone'}, 'all_names': {'Cuboid Bone', 'Cuboid_Bone'}, 'parents': {human.NCI_C12982, human.NCI_C33904, owl.Thing, human.NCI_C25769, human.NCI_C32221, human.NCI_C12366, human.NCI_C34076, human.NCI_C32223, human.NCI_C12219, human.NCI_C12796}, 'children': set()}\n",
      "{'Cuboid Bone', 'Cuboid_Bone'}\n",
      "[{'Bone_of_the_Lower_Extremity'}, {'Other_Anatomic_Concept'}, {'Thing'}, {'Musculoskeletal_System_Part'}, {'Body_Part'}, {'Bone'}, {'Skeletal_System_Part'}, {'Bone_of_the_Extremity'}, {'Anatomic_Structure_System_or_Substance'}, {'Tarsal_Bone'}]\n",
      "[]\n",
      "{'Cuboid Bone'}\n",
      "{human.NCI_C12796}\n",
      "{human.NCI_C32416, human.NCI_C32250, human.NCI_C52799, human.NCI_C32156, human.NCI_C33162, human.NCI_C32414}\n"
     ]
    }
   ],
   "source": [
    "print(tgt_entity)\n",
    "print(tgt_entity.get_all_entity_names())\n",
    "print(tgt_entity.get_parents_preferred_names())\n",
    "print(tgt_entity.get_children_preferred_names())\n",
    "print(tgt_entity.get_synonyms())\n",
    "print(tgt_entity.get_direct_parents())\n",
    "print(tgt_entity.get_direct_parents().pop().get_direct_children())"
   ]
  },
  {
   "cell_type": "code",
   "execution_count": null,
   "metadata": {},
   "outputs": [],
   "source": []
  }
 ],
 "metadata": {
  "kernelspec": {
   "display_name": "Python 3",
   "language": "python",
   "name": "python3"
  },
  "language_info": {
   "codemirror_mode": {
    "name": "ipython",
    "version": 3
   },
   "file_extension": ".py",
   "mimetype": "text/x-python",
   "name": "python",
   "nbconvert_exporter": "python",
   "pygments_lexer": "ipython3",
   "version": "3.10.12"
  }
 },
 "nbformat": 4,
 "nbformat_minor": 2
}
