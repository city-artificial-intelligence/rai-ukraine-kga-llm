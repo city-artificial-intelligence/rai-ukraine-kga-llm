{
 "cells": [
  {
   "cell_type": "code",
   "execution_count": 1,
   "metadata": {
    "execution": {
     "iopub.execute_input": "2024-12-02T22:27:56.726329Z",
     "iopub.status.busy": "2024-12-02T22:27:56.725409Z",
     "iopub.status.idle": "2024-12-02T22:27:57.292386Z",
     "shell.execute_reply": "2024-12-02T22:27:57.291363Z",
     "shell.execute_reply.started": "2024-12-02T22:27:56.726293Z"
    },
    "trusted": true
   },
   "outputs": [],
   "source": [
    "#ruff: noqa: T201, T203\n",
    "from __future__ import annotations\n",
    "\n",
    "import os\n",
    "from pathlib import Path\n",
    "\n",
    "if Path.cwd().name == 'notebooks':\n",
    "    os.chdir('..')"
   ]
  },
  {
   "cell_type": "code",
   "execution_count": 2,
   "metadata": {},
   "outputs": [],
   "source": [
    "import logging\n",
    "from concurrent.futures import ThreadPoolExecutor, as_completed\n",
    "from pprint import pprint\n",
    "from typing import Callable\n",
    "\n",
    "import numpy as np\n",
    "import pandas as pd\n",
    "from dotenv import load_dotenv\n",
    "from tqdm import tqdm\n",
    "\n",
    "from src.constants import PAIRS_SEPARATOR, BinaryOutputFormat, LLMCallOutput\n",
    "from src.evaluate import (\n",
    "    analyze_results,\n",
    "    extend_preds_with_labels_info,\n",
    "    get_gt_pairs,\n",
    "    get_pred_pairs,\n",
    "    plot_usage_histograms,\n",
    ")\n",
    "from src.LLM_servers.openai import OpenAIServer\n",
    "from src.onto_access import OntologyAccess\n",
    "from src.onto_object import OntologyEntryAttr\n",
    "from src.prompts.system import BASELINE_INITIALIZATION_MESSAGE\n",
    "from src.utils import (\n",
    "    calculate_logpropgs_confidence,\n",
    "    read_file,\n",
    "    write_lines,\n",
    ")\n",
    "\n",
    "logging.getLogger().setLevel(logging.WARNING)\n",
    "load_dotenv()\n",
    "\n",
    "%load_ext autoreload\n",
    "%autoreload 2"
   ]
  },
  {
   "cell_type": "code",
   "execution_count": 3,
   "metadata": {},
   "outputs": [],
   "source": [
    "DATA_DIR = Path('./data')\n",
    "OUTPUTS_DIR = Path(\"./outputs\")\n",
    "METRICS_DIR = Path(\"./metrics\")"
   ]
  },
  {
   "cell_type": "markdown",
   "metadata": {},
   "source": [
    "## Prompts"
   ]
  },
  {
   "cell_type": "code",
   "execution_count": 4,
   "metadata": {},
   "outputs": [],
   "source": [
    "def prompt_with_hierarchy(src_entety: OntologyEntryAttr, tgt_entety: OntologyEntryAttr) -> str:\n",
    "    return f\"\"\"\n",
    "    Given two entities from different ontologies with their names, parent relationships, and child relationships, determine if these concepts are the same:\n",
    "\n",
    "    1. Source Entity:\n",
    "    All Entity names: {src_entety.get_all_entity_names()}\n",
    "    Parent Entity Namings: {src_entety.get_parents_preferred_names()}\n",
    "    Child Entity Namings: {src_entety.get_children_preferred_names()}\n",
    "\n",
    "    2. Target Entity:\n",
    "    All Entity names: {tgt_entety.get_all_entity_names()}\n",
    "    Parent Entity Namings: {tgt_entety.get_parents_preferred_names()}\n",
    "    Child Entity Namings: {tgt_entety.get_children_preferred_names()}\n",
    "\n",
    "    Response with True or False\n",
    "    \"\"\"  # noqa: E501\n",
    "\n",
    "\n",
    "def prompt_only_with_parents(src_entety: OntologyEntryAttr, tgt_entety: OntologyEntryAttr) -> str:\n",
    "    return f\"\"\"\n",
    "    Given two entities from different ontologies with their names and parent relationships, determine if these concepts are the same:\n",
    "\n",
    "    1. Source Entity:\n",
    "    All Entity names: {src_entety.get_all_entity_names()}\n",
    "    Parent Entity Namings: {src_entety.get_parents_preferred_names()}\n",
    "\n",
    "    2. Target Entity:\n",
    "    All Entity names: {tgt_entety.get_all_entity_names()}\n",
    "    Parent Entity Namings: {tgt_entety.get_parents_preferred_names()}\n",
    "\n",
    "    Response with True or False\n",
    "    \"\"\"  # noqa: E501\n",
    "\n",
    "\n",
    "def prompt_only_names(src_entety: OntologyEntryAttr, tgt_entety: OntologyEntryAttr) -> str:\n",
    "    return f\"\"\"\n",
    "    Given two entities from different ontologies with their names, determine if these concepts are the same:\n",
    "\n",
    "    1. Source Entity:\n",
    "    All Entity names: {src_entety.get_all_entity_names()}\n",
    "\n",
    "    2. Target Entity:\n",
    "    All Entity names: {tgt_entety.get_all_entity_names()}\n",
    "\n",
    "    Response with True or False\n",
    "    \"\"\"\n",
    "\n",
    "\n",
    "def prompt_only_with_children(src_entety: OntologyEntryAttr, tgt_entety: OntologyEntryAttr) -> str:\n",
    "    return f\"\"\"\n",
    "    Given two entities from different ontologies with their names and child relationships, determine if these concepts are the same:\n",
    "\n",
    "    1. Source Entity:\n",
    "    All Entity names: {src_entety.get_all_entity_names()}\n",
    "    Child Entity Namings: {src_entety.get_children_preferred_names()}\n",
    "\n",
    "    2. Target Entity:\n",
    "    All Entity names: {tgt_entety.get_all_entity_names()}\n",
    "    Child Entity Namings: {tgt_entety.get_children_preferred_names()}\n",
    "\n",
    "    Response with True or False\n",
    "    \"\"\"  # noqa: E501\n",
    "\n",
    "\n",
    "def prompt_synonyms_subsumption(source_entry: OntologyEntryAttr, target_entry: OntologyEntryAttr) -> str:\n",
    "    \"\"\"Create a prompt to determine if one entity's synonyms suggest it subsumes the other.\"\"\"\n",
    "    return f\"\"\"\n",
    "    **Task Description:**\n",
    "    Given two entities with their synonyms, determine if one entity subsumes the other.\n",
    "\n",
    "    1. **Source Entity Synonyms:** {source_entry.get_synonyms()}\n",
    "    2. **Target Entity Synonyms:** {target_entry.get_synonyms()}\n",
    "\n",
    "    Response with True or False\n",
    "    \"\"\"\n",
    "\n",
    "\n",
    "def prompt_one_name_one_synonym(source_entry: OntologyEntryAttr, target_entry: OntologyEntryAttr) -> str:\n",
    "    \"\"\"Create a prompt to determine if one entity's synonyms suggest it subsumes the other.\"\"\"\n",
    "    return f\"\"\"\n",
    "    **Task Description:**\n",
    "    Given two entities with their synonyms, determine if one entity subsumes the other.\n",
    "\n",
    "    1. **Source Entity Synonyms:** {max(list(source_entry.get_synonyms()), key=len)}\n",
    "    2. **Target Entity Names:** {max(list(target_entry.get_all_entity_names()), key=len)}\n",
    "\n",
    "    Response with True or False\n",
    "    \"\"\"\n"
   ]
  },
  {
   "cell_type": "markdown",
   "metadata": {},
   "source": [
    "## Inference pipeline"
   ]
  },
  {
   "cell_type": "code",
   "execution_count": 5,
   "metadata": {},
   "outputs": [],
   "source": [
    "def format_oracle_predictions_filepath(set_name: str, model: str, exp_name: str) -> Path:\n",
    "    return OUTPUTS_DIR / \"llm_oracle_results\" / f\"{set_name}_{model}_{exp_name}.txt\"\n",
    "\n",
    "\n",
    "def format_confusion_matrix_filepath(set_name: str, model: str, exp_name: str, suffix: str = \"\") -> Path:\n",
    "    if suffix:\n",
    "        return METRICS_DIR / \"confusion_matrices\" / f\"{set_name}_{model}_{exp_name}_{suffix}.png\"\n",
    "    return METRICS_DIR / \"confusion_matrices\" / f\"{set_name}_{model}_{exp_name}.png\"\n",
    "\n",
    "\n",
    "def format_gt_pairs_filepath(dataset_path: str, set_name: str) -> Path:\n",
    "    return DATA_DIR / dataset_path / set_name / \"refs_equiv/full.tsv\"\n",
    "\n",
    "\n",
    "def format_oracle_pairs_filepath(dataset_name: str, set_name: str) -> Path:\n",
    "    return DATA_DIR / dataset_name / set_name / f\"{dataset_name}-{set_name}-logmap_mappings_to_ask_oracle_user_llm.txt\"\n",
    "\n",
    "\n",
    "def get_predictions_with_gt(\n",
    "    dataset_name: str, set_name: str, model: str, exp_name: str\n",
    ") -> tuple[pd.DataFrame, pd.DataFrame]:\n",
    "    gt_positive_pairs_path = format_gt_pairs_filepath(dataset_name, set_name)\n",
    "    pred_results_path = format_oracle_predictions_filepath(set_name, model, exp_name)\n",
    "    gt_df = get_gt_pairs(gt_positive_pairs_path)\n",
    "    pred_df = get_pred_pairs(pred_results_path)\n",
    "    return extend_preds_with_labels_info(pred_df, gt_df)\n"
   ]
  },
  {
   "cell_type": "code",
   "execution_count": 6,
   "metadata": {},
   "outputs": [],
   "source": [
    "def extract_llm_compeletion_answer(response: LLMCallOutput) -> bool:\n",
    "    \"\"\"Extract the completion answer from the LLM response.\"\"\"\n",
    "    if isinstance(response.parsed, BinaryOutputFormat):\n",
    "        return response.parsed.answer\n",
    "    raise NotImplementedError()\n",
    "\n",
    "def process_sample(\n",
    "    candidate_pairs_line: str,\n",
    "    llm_oracle: OpenAIServer,\n",
    "    onto_src: OntologyAccess,\n",
    "    onto_tgt: OntologyAccess,\n",
    "    model: str,\n",
    "    prompt_function: Callable,\n",
    "    one_more_time: bool = True,\n",
    ") -> tuple[str, tuple[int, int], float]:\n",
    "    \"\"\"Process a single line: generate a prompt, send it to the LLM, and extract the response.\"\"\"\n",
    "    try:\n",
    "        source = candidate_pairs_line.split(PAIRS_SEPARATOR)[0]\n",
    "        target = candidate_pairs_line.split(PAIRS_SEPARATOR)[1]\n",
    "\n",
    "        try:\n",
    "            prompt = prompt_function(OntologyEntryAttr(source, onto_src), OntologyEntryAttr(target, onto_tgt))\n",
    "        except AssertionError:\n",
    "            prompt = prompt_function(OntologyEntryAttr(target, onto_src), OntologyEntryAttr(source, onto_tgt))\n",
    "\n",
    "        response: LLMCallOutput = llm_oracle.ask_sync_question(prompt, model)\n",
    "        answer = extract_llm_compeletion_answer(response)\n",
    "\n",
    "        input_tokens = response.usage.input_tokens\n",
    "        output_tokens = response.usage.output_tokens\n",
    "        confidence = calculate_logpropgs_confidence(response.logprobs)\n",
    "\n",
    "        token_usage = (input_tokens, output_tokens)\n",
    "        result = f\"{source}|{target}|{answer}|{confidence}\"\n",
    "        return result, token_usage, confidence\n",
    "\n",
    "    except Exception:  # noqa: BLE001\n",
    "        if one_more_time:\n",
    "            return process_sample(\n",
    "                candidate_pairs_line, llm_oracle, onto_src, onto_tgt, model, prompt_function, one_more_time=False\n",
    "            )\n",
    "        return f\"{source}|{target}|ERROR|{np.nan}\", (np.nan, np.nan), np.nan\n",
    "\n",
    "\n",
    "def parallel_samples_process(\n",
    "    candidate_pairs_lines: list[str],\n",
    "    llm_oracle: OpenAIServer,\n",
    "    onto_src: OntologyAccess,\n",
    "    onto_tgt: OntologyAccess,\n",
    "    model: str,\n",
    "    max_workers: int,\n",
    "    prompt_function: Callable,\n",
    ") -> tuple[list[str], list[tuple[int, int]], list[float]]:\n",
    "    \"\"\"Process lines in parallel, with progress tracking using tqdm.\"\"\"\n",
    "    results = []\n",
    "    tokens_usage = []\n",
    "    confidences = []\n",
    "\n",
    "    with ThreadPoolExecutor(max_workers=max_workers) as executor:\n",
    "        future_to_line = {\n",
    "            executor.submit(process_sample, line, llm_oracle, onto_src, onto_tgt, model, prompt_function): line\n",
    "            for line in candidate_pairs_lines\n",
    "        }\n",
    "\n",
    "        for future in tqdm(\n",
    "            as_completed(future_to_line), total=len(future_to_line), desc=f\"Processing Lines {prompt_function.__name__}\"\n",
    "        ):\n",
    "            result, token_usage, confidence = future.result()\n",
    "            results.append(result)\n",
    "            tokens_usage.append(token_usage)\n",
    "            confidences.append(confidence)\n",
    "\n",
    "    return results, tokens_usage, confidences\n"
   ]
  },
  {
   "cell_type": "code",
   "execution_count": null,
   "metadata": {
    "execution": {
     "iopub.execute_input": "2024-12-02T22:43:55.691004Z",
     "iopub.status.busy": "2024-12-02T22:43:55.690724Z",
     "iopub.status.idle": "2024-12-02T22:43:55.699445Z",
     "shell.execute_reply": "2024-12-02T22:43:55.698534Z",
     "shell.execute_reply.started": "2024-12-02T22:43:55.690957Z"
    },
    "trusted": true
   },
   "outputs": [],
   "source": [
    "llm_oracle = OpenAIServer()\n",
    "llm_oracle.add_system_context(BASELINE_INITIALIZATION_MESSAGE)"
   ]
  },
  {
   "cell_type": "code",
   "execution_count": 8,
   "metadata": {},
   "outputs": [
    {
     "name": "stderr",
     "output_type": "stream",
     "text": [
      "* Owlready2 * Creating new ontology human <data/anatomy/human-mouse/human.owl#>.\n",
      "* Owlready2 * ADD TRIPLE data/anatomy/human-mouse/human.owl http://www.w3.org/1999/02/22-rdf-syntax-ns#type http://www.w3.org/2002/07/owl#Ontology\n",
      "* Owlready2 *     ...loading ontology human from data/anatomy/human-mouse/human.owl...\n"
     ]
    },
    {
     "name": "stdout",
     "output_type": "stream",
     "text": [
      "* Owlready2 * Reseting property oboInOwl.ObsoleteProperty: new triples are now available.\n",
      "* Owlready2 * Reseting property oboInOwl.hasRelatedSynonym: new triples are now available.\n",
      "* Owlready2 * Reseting property oboInOwl.hasDefaultNamespace: new triples are now available.\n",
      "* Owlready2 * Reseting property oboInOwl.savedBy: new triples are now available.\n",
      "* Owlready2 * Reseting property oboInOwl.hasDate: new triples are now available.\n"
     ]
    },
    {
     "name": "stderr",
     "output_type": "stream",
     "text": [
      "* Owlready2 *     ...8 properties found: ObsoleteProperty, UNDEFINED_part_of, label, hasRelatedSynonym, hasDefaultNamespace, savedBy, hasDate, hasDefinition\n"
     ]
    }
   ],
   "source": [
    "DATASET_NAME = \"anatomy\"\n",
    "SET_NAME = \"human-mouse\"\n",
    "SOURCE_ONTOLOGY = \"mouse\"\n",
    "TARGET_ONTOLOGY = \"human\"\n",
    "\n",
    "src_onto_path = DATA_DIR / DATASET_NAME / SET_NAME / f\"{SOURCE_ONTOLOGY}.owl\"\n",
    "tgt_onto_path = DATA_DIR / DATASET_NAME / SET_NAME / f\"{TARGET_ONTOLOGY}.owl\"\n",
    "\n",
    "onto_src = OntologyAccess(src_onto_path, annotate_on_init=True)\n",
    "onto_tgt = OntologyAccess(tgt_onto_path, annotate_on_init=True)"
   ]
  },
  {
   "cell_type": "code",
   "execution_count": 35,
   "metadata": {},
   "outputs": [
    {
     "name": "stdout",
     "output_type": "stream",
     "text": [
      "{'class': human.NCI_C33075, 'uri': 'http://human.owl#NCI_C33075', 'preffered_names': {'Meibomian_Gland'}, 'synonyms': {'Meibomian Gland'}, 'all_names': {'Meibomian Gland', 'Meibomian_Gland'}, 'parents': {owl.Thing, human.NCI_C33519, human.NCI_C13018, human.NCI_C12712, human.NCI_C12219, human.NCI_C13319}, 'children': set()}\n",
      "{'Meibomian Gland', 'Meibomian_Gland'}\n",
      "[{'Thing'}, {'Sebaceous_Gland'}, {'Organ'}, {'Exocrine_Gland'}, {'Anatomic_Structure_System_or_Substance'}, {'Gland'}]\n",
      "[]\n",
      "{'Meibomian Gland'}\n",
      "{human.NCI_C33519}\n",
      "{human.NCI_C33521, human.NCI_C33075}\n"
     ]
    },
    {
     "data": {
      "text/plain": [
       "[(0, {'Meibomian_Gland'}),\n",
       " (1, {'Sebaceous_Gland'}),\n",
       " (2, {'Exocrine_Gland'}),\n",
       " (3, {'Gland'}),\n",
       " (4, {'Organ'}),\n",
       " (5, {'Anatomic_Structure_System_or_Substance'}),\n",
       " (6, {'Thing'})]"
      ]
     },
     "execution_count": 35,
     "metadata": {},
     "output_type": "execute_result"
    }
   ],
   "source": [
    "# access the ontology entry example\n",
    "entry_uri = \"http://human.owl#NCI_C33075\"\n",
    "entry = OntologyEntryAttr(entry_uri, onto_tgt)\n",
    "\n",
    "print(entry)\n",
    "print(entry.get_all_entity_names())\n",
    "print(entry.get_parents_preferred_names())\n",
    "print(entry.get_children_preferred_names())\n",
    "print(entry.get_synonyms())\n",
    "print(entry.get_direct_parents())\n",
    "print(entry.get_direct_parents().pop().get_direct_children())\n",
    "\n",
    "repr(entry.get_parents_byhierarchy_with_hierarchy_levels(max_level=8))\n",
    "\n",
    "all_parents_by_levels = entry.get_parents_byhierarchy_with_hierarchy_levels(max_level=8)\n",
    "[(i, x.get_preffered_names()) for i, by_levels in all_parents_by_levels.items()  for x in by_levels]"
   ]
  },
  {
   "cell_type": "code",
   "execution_count": null,
   "metadata": {},
   "outputs": [
    {
     "name": "stdout",
     "output_type": "stream",
     "text": [
      "{'class': human.NCI_C33075, 'uri': 'http://human.owl#NCI_C33075', 'preffered_names': {'Meibomian_Gland'}, 'synonyms': {'Meibomian Gland'}, 'all_names': {'Meibomian Gland', 'Meibomian_Gland'}, 'parents': {owl.Thing, human.NCI_C33519, human.NCI_C13018, human.NCI_C12712, human.NCI_C12219, human.NCI_C13319}, 'children': set()}\n",
      "{'Meibomian Gland', 'Meibomian_Gland'}\n",
      "[{'Thing'}, {'Sebaceous_Gland'}, {'Organ'}, {'Exocrine_Gland'}, {'Anatomic_Structure_System_or_Substance'}, {'Gland'}]\n",
      "[]\n",
      "{'Meibomian Gland'}\n",
      "{human.NCI_C33519}\n",
      "{human.NCI_C33521, human.NCI_C33075}\n"
     ]
    },
    {
     "data": {
      "text/plain": [
       "[(0, {'Meibomian_Gland'}),\n",
       " (1, {'Sebaceous_Gland'}),\n",
       " (2, {'Exocrine_Gland'}),\n",
       " (3, {'Gland'}),\n",
       " (4, {'Organ'}),\n",
       " (5, {'Anatomic_Structure_System_or_Substance'}),\n",
       " (6, {'Thing'})]"
      ]
     },
     "execution_count": 74,
     "metadata": {},
     "output_type": "execute_result"
    }
   ],
   "source": [
    "# access the ontology entry example\n",
    "entry_uri = \"http://human.owl#NCI_C33075\"\n",
    "entry = OntologyEntryAttr(entry_uri, onto_tgt)\n",
    "\n",
    "print(entry)\n",
    "print(entry.get_all_entity_names())\n",
    "print(entry.get_parents_preferred_names())\n",
    "print(entry.get_children_preferred_names())\n",
    "print(entry.get_synonyms())\n",
    "print(entry.get_direct_parents())\n",
    "print(entry.get_direct_parents().pop().get_direct_children())\n",
    "\n",
    "repr(entry.get_parents_by_levels(max_level=8))\n",
    "\n",
    "all_parents_by_levels = entry.get_parents_by_levels(max_level=8)\n",
    "[(level, x.get_preffered_names()) for level, by_levels in all_parents_by_levels.items()  for x in by_levels]"
   ]
  },
  {
   "cell_type": "code",
   "execution_count": 78,
   "metadata": {},
   "outputs": [
    {
     "name": "stdout",
     "output_type": "stream",
     "text": [
      "{'class': human.NCI_C12712, 'uri': 'http://human.owl#NCI_C12712', 'preffered_names': {'Exocrine_Gland'}, 'synonyms': {'Exocrine Gland', 'A gland from which secretions reach a free surface of the body by ducts.'}, 'all_names': {'A gland from which secretions reach a free surface of the body by ducts.', 'Exocrine Gland', 'Exocrine_Gland'}, 'parents': {human.NCI_C12219, human.NCI_C13319, human.NCI_C13018, owl.Thing}, 'children': {human.NCI_C12367, human.NCI_C32536, human.NCI_C32643, human.NCI_C12426, human.NCI_C33539, human.NCI_C33141, human.NCI_C32261, human.NCI_C32296, human.NCI_C32987, human.NCI_C13010, human.NCI_C33431, human.NCI_C32294, human.NCI_C12339, human.NCI_C12234, human.NCI_C33129, human.NCI_C49311, human.NCI_C33249, human.NCI_C32132, human.NCI_C32904, human.NCI_C33519, human.NCI_C32395, human.NCI_C12675, human.NCI_C12999, human.NCI_C33537, human.NCI_C12427, human.NCI_C12410, human.NCI_C12346, human.NCI_C32237, human.NCI_C12233, human.NCI_C32679, human.NCI_C33521, human.NCI_C33075, human.NCI_C32546, human.NCI_C32490, human.NCI_C33712, human.NCI_C32068, human.NCI_C49244, human.NCI_C32680, human.NCI_C32678}}\n",
      "{0: [{'Exocrine_Gland'}],\n",
      " 1: [{'Urethral_Gland'},\n",
      "     {'Mammary_Gland'},\n",
      "     {'Fundic_Gland'},\n",
      "     {'Esophageal_Gland'},\n",
      "     {'Salivary_Gland'},\n",
      "     {'Prostate_Gland'},\n",
      "     {'Exocrine_Pancreas'},\n",
      "     {'Sebaceous_Gland'},\n",
      "     {'Cardia_Gland'},\n",
      "     {'Cervical_Gland'},\n",
      "     {'Sweat_Gland'},\n",
      "     {'Cowper_s_Gland'},\n",
      "     {'Brunner_s_Gland'},\n",
      "     {'Anal_Gland'},\n",
      "     {'Pyloric_Gland'},\n",
      "     {'Paraurethral_Gland'},\n",
      "     {'Lacrimal_Gland'},\n",
      "     {'Bartholin_s_Gland'}],\n",
      " 2: [{'Major_Salivary_Gland'},\n",
      "     {'Seromucous_Salivary_Gland'},\n",
      "     {'Minor_Salivary_Gland'},\n",
      "     {'Sebaceous_Gland_of_the_Eyelash'},\n",
      "     {'Meibomian_Gland'},\n",
      "     {'Serous_Salivary_Gland'},\n",
      "     {'Apocrine_Sweat_Gland'},\n",
      "     {'Eccrine_Sweat_Gland'},\n",
      "     {'Mucous_Salivary_Gland'},\n",
      "     {'Laryngeal_Mucous_Salivary_Gland'},\n",
      "     {'Gland_of_Wolfring'},\n",
      "     {'Gland_of_Krause'}],\n",
      " 3: [{'Gland_of_Moll'},\n",
      "     {'Palatine_Salivary_Gland'},\n",
      "     {'Parotid_Gland'},\n",
      "     {'Labial_Salivary_Gland'},\n",
      "     {'Lingual_Salivary_Gland'},\n",
      "     {'Ceruminous_Gland'},\n",
      "     {'Sublingual_Salivary_Gland'},\n",
      "     {'Buccal_Salivary_Gland'},\n",
      "     {'Submandibular_Gland'}]}\n"
     ]
    }
   ],
   "source": [
    "some_entry = next(iter(all_parents_by_levels[2]))\n",
    "print(some_entry)\n",
    "pprint(\n",
    "    {\n",
    "        level: [x.get_preffered_names() for x in relatives]\n",
    "        for level, relatives in some_entry.get_children_by_levels(max_level=4).items()\n",
    "    }\n",
    ")"
   ]
  },
  {
   "cell_type": "code",
   "execution_count": null,
   "metadata": {},
   "outputs": [
    {
     "name": "stderr",
     "output_type": "stream",
     "text": [
      "Processing Lines prompt_only_names: 100%|██████████| 10/10 [00:04<00:00,  2.13it/s]\n"
     ]
    },
    {
     "name": "stdout",
     "output_type": "stream",
     "text": [
      "Mean input tockens: 157.6\n",
      "Mean output tockens: 6.0\n",
      "Total input tockens: 1576\n",
      "Total output tockens: 60\n"
     ]
    },
    {
     "data": {
      "image/png": "[encoded data removed]",
      "text/plain": [
       "<Figure size 1200x400 with 3 Axes>"
      ]
     },
     "metadata": {},
     "output_type": "display_data"
    },
    {
     "name": "stdout",
     "output_type": "stream",
     "text": [
      "Accuracy: 0.70\n",
      "Precision: 0.78\n",
      "Recall: 0.88\n",
      "F1 Score: 0.82\n"
     ]
    },
    {
     "data": {
      "image/png": "[encoded data removed]",
      "text/plain": [
       "<Figure size 400x400 with 1 Axes>"
      ]
     },
     "metadata": {},
     "output_type": "display_data"
    },
    {
     "name": "stdout",
     "output_type": "stream",
     "text": [
      "\n",
      "\n",
      "\n",
      "\n"
     ]
    }
   ],
   "source": [
    "MAX_WORKERS = 6\n",
    "MODEL = \"gpt-4o-mini\"\n",
    "\n",
    "EXP_NAMES_TO_PROMPT_FUNCTIONS = {\n",
    "    \"only_names\": prompt_only_names,\n",
    "    \"with_hierarchy\": prompt_with_hierarchy,\n",
    "    \"only_with_parents\": prompt_only_with_parents,\n",
    "    \"only_with_children\": prompt_only_with_children,\n",
    "    \"synonyms_subsumption\": prompt_synonyms_subsumption,\n",
    "    \"one_name_one_synonym\": prompt_one_name_one_synonym,\n",
    "}\n",
    "\n",
    "\n",
    "candidates_save_path = format_oracle_pairs_filepath(DATASET_NAME, SET_NAME)\n",
    "candidate_pairs_lines = read_file(candidates_save_path)[:10]\n",
    "\n",
    "for current_exp_name, prompt_function in EXP_NAMES_TO_PROMPT_FUNCTIONS.items():\n",
    "\n",
    "    results, tokens_usage, confidences = parallel_samples_process(\n",
    "        candidate_pairs_lines, llm_oracle, onto_src, onto_tgt, MODEL, MAX_WORKERS, prompt_function\n",
    "    )\n",
    "    plot_usage_histograms(tokens_usage, confidences, do_plot=True, do_print=True, suptitle=current_exp_name)\n",
    "\n",
    "    prediction_path = format_oracle_predictions_filepath(SET_NAME, MODEL, current_exp_name)\n",
    "    write_lines(results, prediction_path)\n",
    "\n",
    "    predictions = get_predictions_with_gt(DATASET_NAME, SET_NAME, MODEL, current_exp_name)\n",
    "\n",
    "    confusion_matrix_save_path = format_confusion_matrix_filepath(SET_NAME, MODEL, current_exp_name, suffix='dev')\n",
    "    analyze_results(\n",
    "        predictions,\n",
    "        print_results=True,\n",
    "        plot_confusion_matrix=True,\n",
    "        subtitle=f\"{SET_NAME}: {MODEL} {current_exp_name} | \",\n",
    "        cm_save_path=confusion_matrix_save_path,\n",
    "    )\n",
    "    print(\"\\n\\n\\n\")\n",
    "    break\n"
   ]
  },
  {
   "cell_type": "markdown",
   "metadata": {},
   "source": [
    "## Metrics analysis"
   ]
  },
  {
   "cell_type": "code",
   "execution_count": 31,
   "metadata": {},
   "outputs": [
    {
     "name": "stdout",
     "output_type": "stream",
     "text": [
      "Accuracy: 0.70\n",
      "Precision: 0.78\n",
      "Recall: 0.88\n",
      "F1 Score: 0.82\n"
     ]
    },
    {
     "data": {
      "image/png": "[encoded data removed]",
      "text/plain": [
       "<Figure size 400x400 with 1 Axes>"
      ]
     },
     "metadata": {},
     "output_type": "display_data"
    }
   ],
   "source": [
    "exp_name = \"only_names\"\n",
    "predictions = get_predictions_with_gt(DATASET_NAME, SET_NAME, MODEL, exp_name)\n",
    "analyze_results(\n",
    "    predictions, print_results=True, plot_confusion_matrix=True, subtitle=f\"{SET_NAME}| {MODEL}| {exp_name}\"\n",
    ");"
   ]
  },
  {
   "cell_type": "markdown",
   "metadata": {},
   "source": [
    "## analyze false predictions"
   ]
  },
  {
   "cell_type": "code",
   "execution_count": 32,
   "metadata": {},
   "outputs": [],
   "source": [
    "def print_results_entry(res_df:pd.DataFrame, pair_type:str=\"FP\", idx:int=0) -> None:\n",
    "    source_uri = res_df[res_df[\"Type\"] == pair_type].iloc[idx][\"Source\"]\n",
    "    target_uri = res_df[res_df[\"Type\"] == pair_type].iloc[idx][\"Target\"]\n",
    "\n",
    "    try:\n",
    "        source_entry = OntologyEntryAttr(source_uri, onto_src)\n",
    "        target_entry = OntologyEntryAttr(target_uri, onto_tgt)\n",
    "    except Exception:\n",
    "        source_entry = OntologyEntryAttr(source_uri, onto_tgt)\n",
    "        target_entry = OntologyEntryAttr(target_uri, onto_src)\n",
    "\n",
    "    print(f\"Processing pair {idx} of type {pair_type}\")\n",
    "    pprint(\"Source Entry:\\n\")\n",
    "    pprint(source_entry.annotation)\n",
    "    pprint(\"Target Entry:\\n\")\n",
    "    pprint(target_entry.annotation)\n",
    "\n",
    "    print(f\"Parent of Source Concept: {source_entry.get_parents_preferred_names()}\")\n",
    "    print(f\"Parent of Target Concept: {target_entry.get_parents_preferred_names()}\")"
   ]
  },
  {
   "cell_type": "code",
   "execution_count": 33,
   "metadata": {},
   "outputs": [],
   "source": [
    "exp_name = \"only_names\"\n",
    "res_df = get_predictions_with_gt(DATASET_NAME, SET_NAME, model='gpt-4o-mini', exp_name=exp_name)"
   ]
  },
  {
   "cell_type": "code",
   "execution_count": 14,
   "metadata": {},
   "outputs": [
    {
     "data": {
      "text/html": [
       "<div>\n",
       "<style scoped>\n",
       "    .dataframe tbody tr th:only-of-type {\n",
       "        vertical-align: middle;\n",
       "    }\n",
       "\n",
       "    .dataframe tbody tr th {\n",
       "        vertical-align: top;\n",
       "    }\n",
       "\n",
       "    .dataframe thead th {\n",
       "        text-align: right;\n",
       "    }\n",
       "</style>\n",
       "<table border=\"1\" class=\"dataframe\">\n",
       "  <thead>\n",
       "    <tr style=\"text-align: right;\">\n",
       "      <th></th>\n",
       "      <th>Source</th>\n",
       "      <th>Target</th>\n",
       "      <th>Prediction</th>\n",
       "      <th>Confidence</th>\n",
       "      <th>Label</th>\n",
       "      <th>Type</th>\n",
       "    </tr>\n",
       "  </thead>\n",
       "  <tbody>\n",
       "    <tr>\n",
       "      <th>0</th>\n",
       "      <td>http://human.owl#NCI_C33075</td>\n",
       "      <td>http://mouse.owl#MA_0001249</td>\n",
       "      <td>True</td>\n",
       "      <td>0.999998</td>\n",
       "      <td>True</td>\n",
       "      <td>TP</td>\n",
       "    </tr>\n",
       "    <tr>\n",
       "      <th>1</th>\n",
       "      <td>http://human.owl#NCI_C53050</td>\n",
       "      <td>http://mouse.owl#MA_0002234</td>\n",
       "      <td>True</td>\n",
       "      <td>0.999999</td>\n",
       "      <td>False</td>\n",
       "      <td>FP</td>\n",
       "    </tr>\n",
       "    <tr>\n",
       "      <th>2</th>\n",
       "      <td>http://human.owl#NCI_C33748</td>\n",
       "      <td>http://mouse.owl#MA_0001221</td>\n",
       "      <td>True</td>\n",
       "      <td>0.999999</td>\n",
       "      <td>True</td>\n",
       "      <td>TP</td>\n",
       "    </tr>\n",
       "    <tr>\n",
       "      <th>3</th>\n",
       "      <td>http://human.owl#NCI_C32658</td>\n",
       "      <td>http://mouse.owl#MA_0002684</td>\n",
       "      <td>False</td>\n",
       "      <td>0.993307</td>\n",
       "      <td>True</td>\n",
       "      <td>FN</td>\n",
       "    </tr>\n",
       "    <tr>\n",
       "      <th>4</th>\n",
       "      <td>http://human.owl#NCI_C33743</td>\n",
       "      <td>http://mouse.owl#MA_0002390</td>\n",
       "      <td>False</td>\n",
       "      <td>0.998073</td>\n",
       "      <td>True</td>\n",
       "      <td>FN</td>\n",
       "    </tr>\n",
       "    <tr>\n",
       "      <th>5</th>\n",
       "      <td>http://human.owl#NCI_C12262</td>\n",
       "      <td>http://mouse.owl#MA_0001615</td>\n",
       "      <td>True</td>\n",
       "      <td>0.999998</td>\n",
       "      <td>True</td>\n",
       "      <td>TP</td>\n",
       "    </tr>\n",
       "    <tr>\n",
       "      <th>6</th>\n",
       "      <td>http://human.owl#NCI_C32497</td>\n",
       "      <td>http://mouse.owl#MA_0000451</td>\n",
       "      <td>True</td>\n",
       "      <td>0.999998</td>\n",
       "      <td>True</td>\n",
       "      <td>TP</td>\n",
       "    </tr>\n",
       "    <tr>\n",
       "      <th>7</th>\n",
       "      <td>http://human.owl#NCI_C33627</td>\n",
       "      <td>http://mouse.owl#MA_0001460</td>\n",
       "      <td>True</td>\n",
       "      <td>0.970686</td>\n",
       "      <td>False</td>\n",
       "      <td>FP</td>\n",
       "    </tr>\n",
       "    <tr>\n",
       "      <th>8</th>\n",
       "      <td>http://human.owl#NCI_C12909</td>\n",
       "      <td>http://mouse.owl#MA_0002434</td>\n",
       "      <td>True</td>\n",
       "      <td>0.999999</td>\n",
       "      <td>True</td>\n",
       "      <td>TP</td>\n",
       "    </tr>\n",
       "    <tr>\n",
       "      <th>9</th>\n",
       "      <td>http://human.owl#NCI_C33791</td>\n",
       "      <td>http://mouse.owl#MA_0000777</td>\n",
       "      <td>True</td>\n",
       "      <td>0.999998</td>\n",
       "      <td>True</td>\n",
       "      <td>TP</td>\n",
       "    </tr>\n",
       "  </tbody>\n",
       "</table>\n",
       "</div>"
      ],
      "text/plain": [
       "                        Source                       Target  Prediction  \\\n",
       "0  http://human.owl#NCI_C33075  http://mouse.owl#MA_0001249        True   \n",
       "1  http://human.owl#NCI_C53050  http://mouse.owl#MA_0002234        True   \n",
       "2  http://human.owl#NCI_C33748  http://mouse.owl#MA_0001221        True   \n",
       "3  http://human.owl#NCI_C32658  http://mouse.owl#MA_0002684       False   \n",
       "4  http://human.owl#NCI_C33743  http://mouse.owl#MA_0002390       False   \n",
       "5  http://human.owl#NCI_C12262  http://mouse.owl#MA_0001615        True   \n",
       "6  http://human.owl#NCI_C32497  http://mouse.owl#MA_0000451        True   \n",
       "7  http://human.owl#NCI_C33627  http://mouse.owl#MA_0001460        True   \n",
       "8  http://human.owl#NCI_C12909  http://mouse.owl#MA_0002434        True   \n",
       "9  http://human.owl#NCI_C33791  http://mouse.owl#MA_0000777        True   \n",
       "\n",
       "   Confidence  Label Type  \n",
       "0    0.999998   True   TP  \n",
       "1    0.999999  False   FP  \n",
       "2    0.999999   True   TP  \n",
       "3    0.993307   True   FN  \n",
       "4    0.998073   True   FN  \n",
       "5    0.999998   True   TP  \n",
       "6    0.999998   True   TP  \n",
       "7    0.970686  False   FP  \n",
       "8    0.999999   True   TP  \n",
       "9    0.999998   True   TP  "
      ]
     },
     "execution_count": 14,
     "metadata": {},
     "output_type": "execute_result"
    }
   ],
   "source": [
    "res_df"
   ]
  },
  {
   "cell_type": "code",
   "execution_count": 15,
   "metadata": {},
   "outputs": [
    {
     "name": "stdout",
     "output_type": "stream",
     "text": [
      "Processing pair 0 of type FP\n",
      "'Source Entry:\\n'\n",
      "{'children': {human.NCI_C52696, human.NCI_C53050, human.NCI_C52697},\n",
      " 'class': human.NCI_C53050,\n",
      " 'names': {'Internal Spermatic Vein',\n",
      "           'Spermatic Vein',\n",
      "           'Spermatic_Vein',\n",
      "           'Testicular Vein'},\n",
      " 'parents': {owl.Thing,\n",
      "             human.NCI_C12679,\n",
      "             human.NCI_C25762,\n",
      "             human.NCI_C12814,\n",
      "             human.NCI_C53050,\n",
      "             human.NCI_C12219,\n",
      "             human.NCI_C32221},\n",
      " 'synonyms': {'Spermatic Vein', 'Testicular Vein', 'Internal Spermatic Vein'}}\n",
      "'Target Entry:\\n'\n",
      "{'children': {mouse.MA_0002234},\n",
      " 'class': mouse.MA_0002234,\n",
      " 'names': {'testicular vein'},\n",
      " 'parents': {owl.Thing,\n",
      "             mouse.MA_0000066,\n",
      "             mouse.MA_0000067,\n",
      "             mouse.MA_0000060,\n",
      "             mouse.MA_0002234},\n",
      " 'synonyms': {}}\n",
      "Parent of Source Concept: [{owl.Thing}, {'Blood_Vessel'}, {'Cardiovascular_System_Part'}, {'Vein'}, {'Body_Part'}, {'Anatomic_Structure_System_or_Substance'}]\n",
      "Parent of Target Concept: [{'blood vessel'}, {'vein'}, {owl.Thing}, {'venous blood vessel'}]\n"
     ]
    }
   ],
   "source": [
    "print_results_entry(res_df, pair_type='FP', idx=0)"
   ]
  },
  {
   "cell_type": "code",
   "execution_count": null,
   "metadata": {},
   "outputs": [],
   "source": []
  }
 ],
 "metadata": {
  "kaggle": {
   "accelerator": "gpu",
   "dataSources": [
    {
     "datasetId": 6011590,
     "sourceId": 9807256,
     "sourceType": "datasetVersion"
    },
    {
     "datasetId": 6215567,
     "sourceId": 10081905,
     "sourceType": "datasetVersion"
    },
    {
     "isSourceIdPinned": true,
     "modelId": 1902,
     "modelInstanceId": 3900,
     "sourceId": 5112,
     "sourceType": "modelInstanceVersion"
    }
   ],
   "dockerImageVersionId": 30805,
   "isGpuEnabled": true,
   "isInternetEnabled": true,
   "language": "python",
   "sourceType": "notebook"
  },
  "kernelspec": {
   "display_name": "Python 3",
   "language": "python",
   "name": "python3"
  },
  "language_info": {
   "codemirror_mode": {
    "name": "ipython",
    "version": 3
   },
   "file_extension": ".py",
   "mimetype": "text/x-python",
   "name": "python",
   "nbconvert_exporter": "python",
   "pygments_lexer": "ipython3",
   "version": "3.10.12"
  }
 },
 "nbformat": 4,
 "nbformat_minor": 4
}
